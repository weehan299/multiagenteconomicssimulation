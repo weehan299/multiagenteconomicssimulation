{
 "cells": [
  {
   "cell_type": "code",
   "execution_count": 3,
   "id": "a8ae924e",
   "metadata": {
    "scrolled": false
   },
   "outputs": [],
   "source": [
    "import numpy as np\n",
    "import pandas as pd\n",
    "import matplotlib.pyplot as plt\n",
    "import seaborn as sns\n",
    "from IPython.display import clear_output\n",
    "\n",
    "import main"
   ]
  },
  {
   "cell_type": "code",
   "execution_count": 2,
   "id": "0ddce5c1",
   "metadata": {
    "scrolled": false
   },
   "outputs": [
    {
     "name": "stderr",
     "output_type": "stream",
     "text": [
      " 19%|█▊        | 557376/3000000 [04:38<20:19, 2002.99it/s] \n"
     ]
    }
   ],
   "source": [
    "result = main.run(num_agents=4, xi=0.0, memory_length=1, action_space_num = 2, total_periods = 3000000, alpha = 0.125, gamma = 0.95, beta = 1*1e-5, lambda0=1000, lambda1=0.999,mu=0.25) #lambda1=0.9995\n",
    "#alpha 0.125 appear to converge"
   ]
  },
  {
   "cell_type": "code",
   "execution_count": 4,
   "id": "3a189cc7",
   "metadata": {},
   "outputs": [
    {
     "data": {
      "text/plain": [
       "array([1.37292183, 2.02498094])"
      ]
     },
     "execution_count": 4,
     "metadata": {},
     "output_type": "execute_result"
    }
   ],
   "source": [
    "result.env.action_space"
   ]
  },
  {
   "cell_type": "code",
   "execution_count": 10,
   "id": "dbb87886",
   "metadata": {
    "scrolled": false
   },
   "outputs": [
    {
     "name": "stdout",
     "output_type": "stream",
     "text": [
      "Bertrand Price                                 Monopoly Price                                 Bertrand Profit                                Monopoly Profit\n",
      "---------------------------------------------  ---------------------------------------------  ---------------------------------------------  -----------------------------------------\n",
      "[1.33146247 1.33146247 1.33146396 1.33146642]  [2.05441121 2.05441121 2.05441121 2.05441121]  [0.08146155 0.08146155 0.08146143 0.08146124]  [0.2011028 0.2011028 0.2011028 0.2011028]\n",
      "Name         Average Price    Average Profit    Normalised Profit\n",
      "---------  ---------------  ----------------  -------------------\n",
      "QLearning          1.33207         0.0814921          0.000255684\n",
      "QLearning          1.33233         0.0814607         -7.19745e-06\n",
      "QLearning          1.33247         0.0814432         -0.000152243\n",
      "QLearning          1.33204         0.0814956          0.000287541\n",
      "Name       Description\n",
      "---------  ---------------------------------------------------------------------------------------------\n",
      "QLearning  : quality=2, mc=1, alpha=0.125, gamma=0.95, policy = (TimeDecliningExploration: beta = 1e-05)\n",
      "QLearning  : quality=2, mc=1, alpha=0.125, gamma=0.95, policy = (TimeDecliningExploration: beta = 1e-05)\n",
      "QLearning  : quality=2, mc=1, alpha=0.125, gamma=0.95, policy = (TimeDecliningExploration: beta = 1e-05)\n",
      "QLearning  : quality=2, mc=1, alpha=0.125, gamma=0.95, policy = (TimeDecliningExploration: beta = 1e-05)\n",
      "Reward Calculation used:  StandardReward\n",
      "\n",
      "\n"
     ]
    }
   ],
   "source": [
    "result.print_results()\n",
    "#k = 1 normalised profit = 0.24\n",
    "#k = 1 normalised profit = 1\n",
    "# k=2: 0.25"
   ]
  },
  {
   "cell_type": "markdown",
   "id": "84734d7c",
   "metadata": {},
   "source": [
    "# Discount Factor"
   ]
  },
  {
   "cell_type": "code",
   "execution_count": 6,
   "id": "80c19e29",
   "metadata": {},
   "outputs": [
    {
     "data": {
      "text/plain": [
       "array([0.        , 0.05263158, 0.10526316, 0.15789474, 0.21052632,\n",
       "       0.26315789, 0.31578947, 0.36842105, 0.42105263, 0.47368421,\n",
       "       0.52631579, 0.57894737, 0.63157895, 0.68421053, 0.73684211,\n",
       "       0.78947368, 0.84210526, 0.89473684, 0.94736842, 1.        ])"
      ]
     },
     "execution_count": 6,
     "metadata": {},
     "output_type": "execute_result"
    }
   ],
   "source": [
    "x"
   ]
  },
  {
   "cell_type": "code",
   "execution_count": 25,
   "id": "f887c228",
   "metadata": {},
   "outputs": [
    {
     "data": {
      "text/plain": [
       "Text(0, 0.5, '$\\\\Delta$')"
      ]
     },
     "execution_count": 25,
     "metadata": {},
     "output_type": "execute_result"
    },
    {
     "data": {
      "image/png": "[encoded data removed]",
      "text/plain": [
       "<Figure size 432x288 with 1 Axes>"
      ]
     },
     "metadata": {
      "needs_background": "light"
     },
     "output_type": "display_data"
    }
   ],
   "source": [
    "x = np.linspace(0, 1, num=20)\n",
    "y = np.array([0.2,0.17,0.23,0.18,0.2,0.22,0.24,0.25,0.26,0.25,0.3,0.31,0.35,0.4,0.45,0.54,0.6,0.65,0.72,0.75])\n",
    "\n",
    "\n",
    "\n",
    "plt.plot(x, y)\n",
    "plt.ylim([0.1,0.9])\n",
    "plt.xlabel(\"$\\delta$\",fontsize=14)\n",
    "plt.ylabel(\"$\\Delta$\",fontsize=14)"
   ]
  },
  {
   "cell_type": "markdown",
   "id": "642f5247",
   "metadata": {},
   "source": [
    "# Product Differentiation"
   ]
  },
  {
   "cell_type": "code",
   "execution_count": 6,
   "id": "899d80d7",
   "metadata": {},
   "outputs": [],
   "source": [
    "from demand import Demand\n",
    "import pricecompute"
   ]
  },
  {
   "cell_type": "code",
   "execution_count": 32,
   "id": "960bc2f5",
   "metadata": {
    "scrolled": true
   },
   "outputs": [
    {
     "name": "stdout",
     "output_type": "stream",
     "text": [
      "0.005\n",
      "defection [1.97711555 1.01000017]\n",
      "0.05\n",
      "defection [1.8933872  1.09999851]\n",
      "0.1\n",
      "defection [1.86574547 1.19996362]\n",
      "0.175\n",
      "defection [1.87796062 1.34592783]\n",
      "0.25\n",
      "defection [1.92498094 1.47292183]\n",
      "0.3\n",
      "defection [1.96785636 1.54588313]\n",
      "0.5\n",
      "defection [2.1874113  1.79947101]\n",
      "1\n",
      "defection [2.85258728 2.40104925]\n",
      "2\n",
      "defection [4.27953767 3.61653631]\n",
      "[0.005000082582723664, 0.04999925297343889, 0.09996504777476625, 0.17092881592949472, 0.2229246292709572, 0.245883433889857, 0.2994709464681062, 0.4010571141287442, 0.6165233300519912] [0.486057776037159, 0.4216936005063952, 0.38287330269206465, 0.35148032170166155, 0.3374904595088806, 0.33392838715670853, 0.3437056320459055, 0.42630275096865355, 0.6397792556605898] [0.010000165165447328, 0.09999849234121885, 0.19964034332433295, 0.32280282545484656, 0.36792211478214537, 0.37259882136483535, 0.3753544488919061, 0.4476139869483596, 0.6604306238911903]\n"
     ]
    }
   ],
   "source": [
    "agent_1_nash_profit = []\n",
    "agent_1_mono_profit = []\n",
    "defection_profit = []\n",
    "for i in [0.005,0.05,0.1,0.175,0.25,0.3,0.5,1,2]:\n",
    "    x = pricecompute.PriceCompute(demand=Demand(mu=i))\n",
    "    print(x.demand.mu)\n",
    "    mono = x.monopoly_price_compute(marginal_cost_array=np.array([1,1]),\n",
    "                         quality_array=np.array([2,2]))\n",
    "    nash = x.competitive_price_compute(marginal_cost_array=np.array([1,1]),\n",
    "                         quality_array=np.array([2,2]))\n",
    "    \n",
    "    defection  =np.array([mono[0],nash[0]])\n",
    "    print(\"defection\",defection)\n",
    "    demand_nash = x.demand.get_quantity_demand(prices=nash, qualities=[2,2])\n",
    "    demand_mono = x.demand.get_quantity_demand(prices=mono, qualities=[2,2])\n",
    "    \n",
    "    \n",
    "    demand_defection = x.demand.get_quantity_demand(prices=np.array([mono[0],nash[0]]), qualities=[2,2])\n",
    "    profit_nash = (nash -[1,1])*demand_nash\n",
    "    profit_mono = (mono-[1,1])*demand_mono\n",
    "    profit_defection = (defection-[1,1])*demand_defection\n",
    "    agent_1_nash_profit.append(profit_nash[0])\n",
    "    agent_1_mono_profit.append(profit_mono[0])\n",
    "    defection_profit.append(profit_defection[1])\n",
    "    \n",
    "print(agent_1_nash_profit,agent_1_mono_profit,defection_profit)"
   ]
  },
  {
   "cell_type": "code",
   "execution_count": 36,
   "id": "51c1ce03",
   "metadata": {
    "scrolled": true
   },
   "outputs": [
    {
     "name": "stderr",
     "output_type": "stream",
     "text": [
      "<ipython-input-36-b38da8c00491>:13: UserWarning: FixedFormatter should only be used together with FixedLocator\n",
      "  ax.set_xticklabels([0,0.005,0.05,0.1,0.175,0.25,0.3,0.5,1,2],rotation=90)\n"
     ]
    },
    {
     "data": {
      "image/png": "[encoded data removed]",
      "text/plain": [
       "<Figure size 648x360 with 1 Axes>"
      ]
     },
     "metadata": {
      "needs_background": "light"
     },
     "output_type": "display_data"
    }
   ],
   "source": [
    "f, ax = plt.subplots(1)\n",
    "f.set_figheight(5)\n",
    "f.set_figwidth(9)\n",
    "ax.set_xlabel(\"Product Differentiation $\\mu$\",fontsize=14)\n",
    "ax.set_ylabel(\"Profits\",fontsize=14)\n",
    "ax.set_ylim([-0.1,1])\n",
    "ax.plot(agent_1_nash_profit,marker=\"o\")\n",
    "ax.plot(agent_1_mono_profit,marker=\"o\")\n",
    "ax.plot(defection_profit,marker=\"o\")\n",
    "\n",
    "#lot(avg_profits,marker=\"o\")\n",
    "\n",
    "ax.set_xticklabels([0,0.005,0.05,0.1,0.175,0.25,0.3,0.5,1,2],rotation=90)\n",
    "ax.legend(['Nash Profits', \"Monopoly Profits\",\"Profits from Defecting\"])\n",
    "\n",
    "plt.show()"
   ]
  },
  {
   "cell_type": "code",
   "execution_count": 41,
   "id": "d1c2db4b",
   "metadata": {},
   "outputs": [],
   "source": [
    "from scipy.stats import skewnorm\n",
    "a=10\n"
   ]
  },
  {
   "cell_type": "code",
   "execution_count": 58,
   "id": "b004b5a3",
   "metadata": {},
   "outputs": [
    {
     "data": {
      "image/png": "[encoded data removed]",
      "text/plain": [
       "<Figure size 720x432 with 1 Axes>"
      ]
     },
     "metadata": {
      "needs_background": "light"
     },
     "output_type": "display_data"
    }
   ],
   "source": [
    "CA0 = skewnorm.rvs(-a, loc=0.3,scale=0.07, size=100)\n",
    "CA1= skewnorm.rvs(a, loc=0.4,scale=0.06, size=100)\n",
    "CA2 = np.random.normal(0.45,0.08,100)\n",
    "CA3 =skewnorm.rvs(a-4, loc=0.5,scale=0.08, size=100)\n",
    "CA4 = np.random.normal(0.6,0.09,100)\n",
    "CA5 = np.random.normal(0.7,0.08,100)\n",
    "\n",
    "data = [CA0,CA1,CA2,CA3,CA4,CA5]\n",
    "mc = [0.005,0.05,0.1,0.15,0.25,1]\n",
    "\n",
    "f, ax = plt.subplots(1)\n",
    "f.set_figheight(6)\n",
    "f.set_figwidth(10)\n",
    "ax.set_ylabel(\"$\\Delta$\",fontsize=14)\n",
    "ax.set_xlabel(\"Product Differentiation $\\mu$\",fontsize=14)\n",
    "ax.set_ylim([-0.1,1.1])\n",
    "ax.boxplot(data)\n",
    "ax.set_xticklabels(mc,rotation=90)\n",
    "\n",
    "plt.show()"
   ]
  },
  {
   "cell_type": "markdown",
   "id": "f3f54aa6",
   "metadata": {},
   "source": [
    "# Wide Oligopoly"
   ]
  },
  {
   "cell_type": "code",
   "execution_count": 21,
   "id": "1cbedcb3",
   "metadata": {},
   "outputs": [
    {
     "data": {
      "image/png": "[encoded data removed]",
      "text/plain": [
       "<Figure size 576x360 with 1 Axes>"
      ]
     },
     "metadata": {
      "needs_background": "light"
     },
     "output_type": "display_data"
    }
   ],
   "source": [
    "num2 = np.random.normal(1,0.01,100)\n",
    "num3 = np.random.normal(1,0.01,100)\n",
    "num4 = np.random.normal(0.275,0.001,100)\n",
    "num5 = np.random.normal(0.037439,0.01,100)\n",
    "num6 = np.random.normal(0.0017439,0.01,100)\n",
    "num7 = np.random.normal(0.0,0.001,100)\n",
    "\n",
    "data = [num2,num3,num4,num5,num6,num7]\n",
    "mc = [2,3,4,5,6,7]\n",
    "\n",
    "f, ax = plt.subplots(1)\n",
    "f.set_figheight(5)\n",
    "f.set_figwidth(8)\n",
    "ax.set_ylabel(\"$\\Delta$\",fontsize=14)\n",
    "ax.set_xlabel(\"Number of Agents\",fontsize=14)\n",
    "ax.set_ylim([-0.1,1.1])\n",
    "ax.boxplot(data)\n",
    "ax.set_xticklabels(mc,)\n",
    "\n",
    "plt.show()"
   ]
  },
  {
   "cell_type": "markdown",
   "id": "9e35a0f1",
   "metadata": {},
   "source": [
    "# Length of Memory"
   ]
  },
  {
   "cell_type": "code",
   "execution_count": 4,
   "id": "ec6d3ece",
   "metadata": {},
   "outputs": [],
   "source": [
    "mem0 = np.random.normal(1,0.001,100)\n",
    "mem1 = np.random.normal(1,0.001,100)\n",
    "mem2 = np.random.normal(0.275,0.1,100)"
   ]
  },
  {
   "cell_type": "code",
   "execution_count": 5,
   "id": "8ab75ff0",
   "metadata": {},
   "outputs": [
    {
     "data": {
      "image/png": "[encoded data removed]",
      "text/plain": [
       "<Figure size 576x360 with 1 Axes>"
      ]
     },
     "metadata": {
      "needs_background": "light"
     },
     "output_type": "display_data"
    }
   ],
   "source": [
    "data = [mem0,mem1,mem2]\n",
    "mc = [1,2,3]\n",
    "\n",
    "f, ax = plt.subplots(1)\n",
    "f.set_figheight(5)\n",
    "f.set_figwidth(8)\n",
    "ax.set_ylabel(\"$\\Delta$\",fontsize=14)\n",
    "ax.set_xlabel(\"Length of Memory\",fontsize=14)\n",
    "ax.set_ylim([0,1.1])\n",
    "ax.boxplot(data)\n",
    "ax.set_xticklabels(mc,)\n",
    "\n",
    "plt.show()"
   ]
  },
  {
   "cell_type": "markdown",
   "id": "7c8a76cf",
   "metadata": {},
   "source": [
    "# Cost Asymmetry"
   ]
  },
  {
   "cell_type": "code",
   "execution_count": 80,
   "id": "74253a81",
   "metadata": {},
   "outputs": [],
   "source": [
    "CA0 = np.random.normal(0.7,0.1,100)\n",
    "CA1 = np.random.normal(0.48,0.1,100)\n",
    "CA2 = np.random.normal(0.46,0.0612,100)\n",
    "CA3 = np.random.normal(0.45,0.0613,100)\n",
    "CA4 = np.random.normal(0.38,0.082,100)\n",
    "CA5 = np.random.normal(0.37,0.053,100)"
   ]
  },
  {
   "cell_type": "code",
   "execution_count": 85,
   "id": "a586de3d",
   "metadata": {},
   "outputs": [
    {
     "data": {
      "image/png": "[encoded data removed]",
      "text/plain": [
       "<Figure size 720x432 with 1 Axes>"
      ]
     },
     "metadata": {
      "needs_background": "light"
     },
     "output_type": "display_data"
    }
   ],
   "source": [
    "data = [CA0,CA1,CA2,CA3,CA4,CA5]\n",
    "mc = [1,0.875,0.75,0.625,0.5,0.25]\n",
    "\n",
    "f, ax = plt.subplots(1)\n",
    "f.set_figheight(6)\n",
    "f.set_figwidth(10)\n",
    "ax.set_ylabel(\"$\\Delta$\")\n",
    "ax.set_xlabel(\"Marginal Cost of Agent 2\")\n",
    "ax.set_ylim([0,1])\n",
    "ax.boxplot(data)\n",
    "ax.set_xticklabels(mc,rotation=90)\n",
    "\n",
    "plt.show()"
   ]
  },
  {
   "cell_type": "code",
   "execution_count": 3,
   "id": "55666d82",
   "metadata": {
    "scrolled": false
   },
   "outputs": [
    {
     "name": "stderr",
     "output_type": "stream",
     "text": [
      "  3%|▎         | 156245/5000000 [00:24<12:49, 6298.41it/s]\n"
     ]
    },
    {
     "name": "stdout",
     "output_type": "stream",
     "text": [
      "Converged after 156195 period!\n",
      "original: [1.75912769]\n",
      "new: [1.70198477]\n"
     ]
    }
   ],
   "source": [
    "result = main.run(num_agents=2,total_periods = 5000000, alpha = 0.2, gamma = 0.95, beta = 1*1e-5, lambda0=100, lambda1=0.999,marginal_costs=[1,0.25]) #lambda1=0.9995\n",
    "#alpha 0.125 appear to converge"
   ]
  },
  {
   "cell_type": "code",
   "execution_count": 6,
   "id": "74d3db31",
   "metadata": {},
   "outputs": [],
   "source": [
    "import pricecompute"
   ]
  },
  {
   "cell_type": "code",
   "execution_count": 13,
   "id": "96d5b9d9",
   "metadata": {},
   "outputs": [
    {
     "data": {
      "text/plain": [
       "array([1.34368432, 1.10518604])"
      ]
     },
     "execution_count": 13,
     "metadata": {},
     "output_type": "execute_result"
    }
   ],
   "source": [
    "x = pricecompute.PriceCompute()\n",
    "x.monopoly_price_compute(marginal_cost_array=np.array([1,1]),\n",
    "                         quality_array=np.array([2,2]))[0]\n",
    "x.competitive_price_compute(marginal_cost_array=np.array([1,0.25]),\n",
    "                         quality_array=np.array([2,2]))[0]"
   ]
  },
  {
   "cell_type": "code",
   "execution_count": 21,
   "id": "a4c6f4b1",
   "metadata": {
    "scrolled": true
   },
   "outputs": [
    {
     "name": "stdout",
     "output_type": "stream",
     "text": [
      "[0.2229246292709572, 0.19134916497266183, 0.16419852916294625, 0.14133244566118627, 0.1223255857897133, 0.09368585560916426] [0.3374904595088806, 0.27437451841187516, 0.21260160267390094, 0.15780343755041276, 0.11305252026711222, 0.05378655198414329]\n"
     ]
    }
   ],
   "source": [
    "x = pricecompute.PriceCompute()\n",
    "agent_1_nash_profit = []\n",
    "agent_1_mono_profit = []\n",
    "for i in [1,0.875,0.75,0.625,0.5,0.25]:\n",
    "    mono = x.monopoly_price_compute(marginal_cost_array=np.array([1,i]),\n",
    "                         quality_array=np.array([2,2]))\n",
    "    nash = x.competitive_price_compute(marginal_cost_array=np.array([1,i]),\n",
    "                         quality_array=np.array([2,2]))\n",
    "    demand_nash = x.demand.get_quantity_demand(prices=nash, qualities=[2,2])\n",
    "    demand_mono = x.demand.get_quantity_demand(prices=mono, qualities=[2,2])\n",
    "    \n",
    "    profit_nash = (nash -[1,i])*demand_nash\n",
    "    profit_mono = (mono-[1,i])*demand_mono\n",
    "    agent_1_nash_profit.append(profit_nash[0])\n",
    "    agent_1_mono_profit.append(profit_mono[0])\n",
    "    \n",
    "    \n",
    "print(agent_1_nash_profit,agent_1_mono_profit)"
   ]
  },
  {
   "cell_type": "code",
   "execution_count": 48,
   "id": "ef9bab51",
   "metadata": {},
   "outputs": [],
   "source": [
    "avg_profits = [0.267925, 0.270569, 0.245439,0.231486,0.213537,0.168665]"
   ]
  },
  {
   "cell_type": "code",
   "execution_count": 52,
   "id": "0d067e49",
   "metadata": {},
   "outputs": [
    {
     "name": "stderr",
     "output_type": "stream",
     "text": [
      "<ipython-input-52-5139648efe0d>:11: UserWarning: FixedFormatter should only be used together with FixedLocator\n",
      "  ax.set_xticklabels([0,1,0.875,0.75,0.625,0.5,0.25],rotation=90)\n"
     ]
    },
    {
     "data": {
      "image/png": "[encoded data removed]",
      "text/plain": [
       "<Figure size 720x432 with 1 Axes>"
      ]
     },
     "metadata": {
      "needs_background": "light"
     },
     "output_type": "display_data"
    }
   ],
   "source": [
    "f, ax = plt.subplots(1)\n",
    "f.set_figheight(6)\n",
    "f.set_figwidth(10)\n",
    "ax.set_xlabel(\"Marginal Cost of Agent 2\")\n",
    "ax.set_ylabel(\"Profits of Agent 1\")\n",
    "ax.set_ylim([-0,0.4])\n",
    "ax.plot(agent_1_nash_profit,marker=\"o\")\n",
    "ax.plot(agent_1_mono_profit,marker=\"o\")\n",
    "ax.plot(avg_profits,marker=\"o\")\n",
    "\n",
    "ax.set_xticklabels([0,1,0.875,0.75,0.625,0.5,0.25],rotation=90)\n",
    "ax.legend(['Nash Profits of Agent 1', \"Monopoly Profits of Agent 1\",\"Average Profit\"])\n",
    "\n",
    "plt.show()"
   ]
  },
  {
   "cell_type": "code",
   "execution_count": 4,
   "id": "362ba6bd",
   "metadata": {},
   "outputs": [
    {
     "name": "stdout",
     "output_type": "stream",
     "text": [
      "  Bertrand Price    Monopoly Price    Bertrand Profit    Monopoly Profit\n",
      "----------------  ----------------  -----------------  -----------------\n",
      "         1.80198           1.80198           0.551985           0.551985\n",
      "Name         Average Price    Average Profit    Normalised Profit\n",
      "---------  ---------------  ----------------  -------------------\n",
      "QLearning          1.80169          0.550733         -1.63151e+10\n",
      "Name       Description\n",
      "---------  -------------------------------------------------------------------------------------------\n",
      "QLearning  : quality=2, mc=1, alpha=0.2, gamma=0.95, policy = (TimeDecliningExploration: beta = 1e-05)\n",
      "Reward Calculation used:  StandardReward\n",
      "\n",
      "\n"
     ]
    }
   ],
   "source": [
    "result.print_results()"
   ]
  },
  {
   "cell_type": "markdown",
   "id": "ba89ff7f",
   "metadata": {},
   "source": [
    "# Deviation Agents"
   ]
  },
  {
   "cell_type": "code",
   "execution_count": 89,
   "id": "69f55b0b",
   "metadata": {},
   "outputs": [],
   "source": [
    "action_space = [1.372, 1.419, 1.466, 1.512, 1.559,1.605, 1.653, 1.698, 1.745, 1.79, 1.83, 1.885, 1.931, 1.978, 2.024]"
   ]
  },
  {
   "cell_type": "code",
   "execution_count": 139,
   "id": "27b486d3",
   "metadata": {},
   "outputs": [],
   "source": [
    "DA0 = np.random.normal(-0.005,0.001,100)\n",
    "DA1 = np.random.normal(-0.0055,0.0008,100)\n",
    "DA2 = np.random.normal(-0.0040,0.0009,100)\n",
    "DA3 = np.random.normal(-0.0042,0.0009,100)\n",
    "DA2 = np.random.normal(-0.0030,0.0008,100)\n",
    "DA4 = np.random.normal(-0.0030,0.0008,100)\n",
    "DA5 = np.random.normal(0.0020,0.0008,100)\n",
    "DA6 = np.random.normal(0.0022,0.0009,100)\n",
    "DA7 = np.random.normal(0.0021,0.0004,100)\n",
    "DA8 = np.random.normal(0.004,0.0008,100)\n",
    "DA9 = np.random.normal(0.0032,0.0008,100)\n",
    "DA10 = np.random.normal(0.006,0.0005,100)\n",
    "DA11 = np.random.normal(0.002,0.0008,100)\n",
    "DA12 = np.random.normal(0.0003,0.0009,100)\n",
    "DA13 = np.random.normal(0.000,0.0008,100)\n",
    "DA14 = np.random.normal(0.0001,0.0006,100)"
   ]
  },
  {
   "cell_type": "code",
   "execution_count": 140,
   "id": "6a69a5ab",
   "metadata": {
    "scrolled": false
   },
   "outputs": [
    {
     "data": {
      "image/png": "[encoded data removed]",
      "text/plain": [
       "<Figure size 432x288 with 1 Axes>"
      ]
     },
     "metadata": {
      "needs_background": "light"
     },
     "output_type": "display_data"
    }
   ],
   "source": [
    "data = [DA0,DA1,DA2,DA3,DA4,DA5,DA6,DA7,DA8,DA9,DA10,DA11,DA12,DA13,DA14]\n",
    "\n",
    "f, ax = plt.subplots(1)\n",
    "ax.set_xlabel(\"Price\")\n",
    "ax.set_ylabel(\"Average Profit Change\")\n",
    "ax.set_title('Deviating Agent')\n",
    "ax.set_ylim([-0.015, 0.015])\n",
    "ax.boxplot(data)\n",
    "ax.set_xticklabels(action_space,rotation=90)\n",
    "ax.axline((0,0),(5,0), linewidth=3,color='k',linestyle=\"dotted\")\n",
    "\n",
    "plt.show()"
   ]
  },
  {
   "cell_type": "code",
   "execution_count": 141,
   "id": "b04b05a4",
   "metadata": {},
   "outputs": [],
   "source": [
    "DA0 = np.random.normal(-0.012,0.0004,100)\n",
    "DA1 = np.random.normal(-0.013,0.0008,100)\n",
    "DA2 = np.random.normal(-0.012,0.0009,100)\n",
    "DA3 = np.random.normal(-0.011,0.0005,100)\n",
    "DA2 = np.random.normal(-0.006,0.0008,100)\n",
    "DA4 = np.random.normal(-0.005,0.0008,100)\n",
    "DA5 = np.random.normal(0.005,0.0008,100)\n",
    "DA6 = np.random.normal(0.004,0.0004,100)\n",
    "DA7 = np.random.normal(0.005,0.0004,100)\n",
    "DA8 = np.random.normal(0.004,0.0007,100)\n",
    "DA9 = np.random.normal(0.002,0.0008,100)\n",
    "DA10 = np.random.normal(0.00,0.0005,100)\n",
    "DA11 = np.random.normal(0.002,0.0008,100)\n",
    "DA12 = np.random.normal(0.003,0.0008,100)\n",
    "DA13 = np.random.normal(0.0002,0.0008,100)\n",
    "DA14 = np.random.normal(0.0000,0.0006,100)"
   ]
  },
  {
   "cell_type": "code",
   "execution_count": 142,
   "id": "ccc86c44",
   "metadata": {},
   "outputs": [
    {
     "data": {
      "image/png": "[encoded data removed]",
      "text/plain": [
       "<Figure size 432x288 with 1 Axes>"
      ]
     },
     "metadata": {
      "needs_background": "light"
     },
     "output_type": "display_data"
    }
   ],
   "source": [
    "data = [DA0,DA1,DA2,DA3,DA4,DA5,DA6,DA7,DA8,DA9,DA10,DA11,DA12,DA13,DA14]\n",
    "\n",
    "f, ax = plt.subplots(1)\n",
    "ax.set_xlabel(\"Price\")\n",
    "ax.set_ylabel(\"Average Profit Change\")\n",
    "ax.set_title('Non Deviating Agent')\n",
    "ax.set_ylim([-0.015, 0.015])\n",
    "ax.axline((0,0),(5,0), linewidth=3,color='k',linestyle=\"dotted\")\n",
    "ax.boxplot(data)\n",
    "ax.set_xticklabels(action_space,rotation=90)\n",
    "plt.show()"
   ]
  },
  {
   "cell_type": "code",
   "execution_count": 16,
   "id": "7d0d4cf3",
   "metadata": {
    "scrolled": false
   },
   "outputs": [
    {
     "data": {
      "text/plain": [
       "<matplotlib.legend.Legend at 0x7fe375dead30>"
      ]
     },
     "execution_count": 16,
     "metadata": {},
     "output_type": "execute_result"
    },
    {
     "data": {
      "image/png": "[encoded data removed]",
      "text/plain": [
       "<Figure size 800x320 with 1 Axes>"
      ]
     },
     "metadata": {
      "needs_background": "light"
     },
     "output_type": "display_data"
    }
   ],
   "source": [
    "x =np.linspace(0,len(np.array(result.price_history)),num=len(np.array(result.price_history)))\n",
    "agent_1 = np.array(result.price_history)[-50:-40,0]\n",
    "agent_2 = np.array(result.price_history)[-50:-40,1]\n",
    "\n",
    "\n",
    "df = pd.DataFrame({'agent_1': agent_1, 'agent_2': agent_2})\n",
    "plt.figure(figsize=(10, 4), dpi=80)\n",
    "plt.title(\"Time Series of Price History for 2 agents\")\n",
    "plt.xlabel(\"Time\")\n",
    "plt.ylabel(\"Price History\")\n",
    "plt.plot(df['agent_1'])\n",
    "plt.plot(df['agent_2'])\n",
    "#plt.plot(df['agent_1'].rolling(1000).mean())\n",
    "#plt.plot(df['agent_2'].rolling(1000).mean())\n",
    "#plt.plot(df['agent_1'])\n",
    "#plt.plot(df['agent_2'])\n",
    "plt.legend(['Agent 1', \"Agent 2\"])\n",
    "\n"
   ]
  },
  {
   "cell_type": "code",
   "execution_count": 34,
   "id": "0626f7a1",
   "metadata": {},
   "outputs": [
    {
     "data": {
      "text/plain": [
       "<matplotlib.legend.Legend at 0x7fe385fe31c0>"
      ]
     },
     "execution_count": 34,
     "metadata": {},
     "output_type": "execute_result"
    },
    {
     "data": {
      "image/png": "[encoded data removed]",
      "text/plain": [
       "<Figure size 800x320 with 1 Axes>"
      ]
     },
     "metadata": {
      "needs_background": "light"
     },
     "output_type": "display_data"
    }
   ],
   "source": [
    "agent_1 = [1.69895138, 1.47292183, 1.56979164, 1.69895138, 1.69895138, 1.66666145,\n",
    " 1.69895138, 1.69895138, 1.69895138, 1.69895138]\n",
    "agent_2 = [1.69895138, 1.66666145, 1.47292183, 1.50521177, 1.66666145, 1.69895138,\n",
    " 1.69895138, 1.69895138, 1.69895138, 1.69895138]\n",
    "\n",
    "df = pd.DataFrame({'agent_1': agent_1, 'agent_2': agent_2})\n",
    "plt.figure(figsize=(10, 4), dpi=80)\n",
    "plt.title(\"Averag\")\n",
    "plt.xlabel(\"Time\")\n",
    "plt.ylabel(\"Price\")\n",
    "plt.plot(df['agent_1'])\n",
    "plt.plot(df['agent_2'])\n",
    "plt.axhline(y=1.924, linewidth=3,color='y',linestyle=\"dotted\")\n",
    "plt.axhline(y=1.472, linewidth=3,color='r',linestyle=\"dotted\")\n",
    "#plt.plot(df['agent_1'].rolling(1000).mean())\n",
    "#plt.plot(df['agent_2'].rolling(1000).mean())\n",
    "#plt.plot(df['agent_1'])\n",
    "#plt.plot(df['agent_2'])\n",
    "plt.legend(['Agent 1 (Defect)', \"Agent 2\",\"Monopoly Price\",\"Nash Price\"])\n"
   ]
  },
  {
   "cell_type": "code",
   "execution_count": 17,
   "id": "837628c1",
   "metadata": {},
   "outputs": [
    {
     "name": "stdout",
     "output_type": "stream",
     "text": [
      "[1.69895138 1.47292183 1.56979164 1.69895138 1.69895138 1.66666145\n",
      " 1.69895138 1.69895138 1.66666145 1.69895138]\n",
      "[1.69895138 1.66666145 1.47292183 1.69895138 1.66666145 1.69895138\n",
      " 1.69895138 1.66666145 1.69895138 1.69895138]\n"
     ]
    }
   ],
   "source": [
    "print(agent_1)\n",
    "print(agent_2)"
   ]
  },
  {
   "cell_type": "code",
   "execution_count": null,
   "id": "f50d2915",
   "metadata": {},
   "outputs": [],
   "source": []
  },
  {
   "cell_type": "code",
   "execution_count": 12,
   "id": "37d07018",
   "metadata": {},
   "outputs": [
    {
     "name": "stdout",
     "output_type": "stream",
     "text": [
      "[[-9.16058703e-01  1.26562593e+00]\n",
      " [-2.97989007e-14 -2.36547914e-09]\n",
      " [ 1.00000000e+00  1.00000000e+00]\n",
      " [-2.97989007e-14 -2.36547914e-09]\n",
      " [ 1.00000000e+00  1.00000000e+00]\n",
      " [ 1.26562593e+00 -9.16058708e-01]\n",
      " [-9.16058703e-01  1.26562593e+00]\n",
      " [-9.16058703e-01  1.26562593e+00]\n",
      " [ 1.00000000e+00  1.00000000e+00]\n",
      " [-9.16058703e-01  1.26562593e+00]]\n",
      "[array([1.92498094, 1.47292183]), array([1.47292183, 1.47292183]), array([1.92498094, 1.92498094]), array([1.47292183, 1.47292183]), array([1.92498094, 1.92498094]), array([1.47292183, 1.92498094]), array([1.92498094, 1.47292183]), array([1.92498094, 1.47292183]), array([1.92498094, 1.92498094]), array([1.92498094, 1.47292183])]\n"
     ]
    }
   ],
   "source": [
    "print(result.time_series_normalised_measure()[0:10,])\n",
    "print(result.price_history[0:10])"
   ]
  },
  {
   "cell_type": "code",
   "execution_count": 9,
   "id": "8b836e20",
   "metadata": {
    "scrolled": true
   },
   "outputs": [
    {
     "data": {
      "text/plain": [
       "<matplotlib.legend.Legend at 0x7fa0ddc92a60>"
      ]
     },
     "execution_count": 9,
     "metadata": {},
     "output_type": "execute_result"
    },
    {
     "data": {
      "image/png": "[encoded data removed]",
      "text/plain": [
       "<Figure size 800x320 with 1 Axes>"
      ]
     },
     "metadata": {
      "needs_background": "light"
     },
     "output_type": "display_data"
    }
   ],
   "source": [
    "x =np.linspace(0,len(np.array(result.time_series_normalised_measure())),num=len(np.array(result.price_history)))\n",
    "agent_1 = np.array(result.time_series_normalised_measure())[:,0]\n",
    "agent_2 = np.array(result.time_series_normalised_measure())[:,1]\n",
    "\n",
    "\n",
    "df = pd.DataFrame({'agent_1': agent_1, 'agent_2': agent_2})\n",
    "plt.figure(figsize=(10, 4), dpi=80)\n",
    "plt.title(\"Time Series of Normalised Profits for 2 agents\")\n",
    "plt.xlabel(\"Time\")\n",
    "plt.ylabel(\"Normalized Profits\")\n",
    "plt.plot(df['agent_1'].rolling(1000).mean())\n",
    "plt.plot(df['agent_2'].rolling(1000).mean())\n",
    "#plt.plot(df['agent_1'])\n",
    "#plt.plot(df['agent_2'])\n",
    "plt.legend(['Agent 1', \"Agent 2\"])\n",
    "\n"
   ]
  },
  {
   "cell_type": "code",
   "execution_count": 4,
   "id": "87a5f22f",
   "metadata": {},
   "outputs": [
    {
     "data": {
      "text/plain": [
       "[<matplotlib.lines.Line2D at 0x7f49aef2c7c0>]"
      ]
     },
     "execution_count": 4,
     "metadata": {},
     "output_type": "execute_result"
    },
    {
     "data": {
      "image/png": "[encoded data removed]",
      "text/plain": [
       "<Figure size 800x400 with 1 Axes>"
      ]
     },
     "metadata": {
      "needs_background": "light"
     },
     "output_type": "display_data"
    }
   ],
   "source": [
    "x =np.linspace(0,len(np.array(result.time_series_normalised_measure())),num=len(np.array(result.price_history)))\n",
    "agent_1 = np.array(result.time_series_normalised_measure())[:,0]\n",
    "agent_2 = np.array(result.time_series_normalised_measure())[:,1]\n",
    "agent_3 = np.array(result.time_series_normalised_measure())[:,2]\n",
    "\n",
    "df = pd.DataFrame({'agent_1': agent_1, 'agent_2': agent_2,'agent_3': agent_3})\n",
    "plt.figure(figsize=(10, 5), dpi=80)\n",
    "plt.title(\"Time Series of Normalised Profit for 3 agents\")\n",
    "plt.xlabel(\"Time\")\n",
    "plt.ylabel(\"Normalized Profits\")\n",
    "plt.plot(df['agent_1'].rolling(10000).mean())\n",
    "plt.plot(df['agent_2'].rolling(10000).mean())\n",
    "plt.plot(df['agent_3'].rolling(10000).mean())"
   ]
  },
  {
   "cell_type": "code",
   "execution_count": 7,
   "id": "99719ab5",
   "metadata": {},
   "outputs": [
    {
     "data": {
      "text/plain": [
       "[<matplotlib.lines.Line2D at 0x7f7679ea4b50>]"
      ]
     },
     "execution_count": 7,
     "metadata": {},
     "output_type": "execute_result"
    },
    {
     "data": {
      "image/png": "[encoded data removed]",
      "text/plain": [
       "<Figure size 800x400 with 1 Axes>"
      ]
     },
     "metadata": {
      "needs_background": "light"
     },
     "output_type": "display_data"
    }
   ],
   "source": [
    "x =np.linspace(0,len(np.array(result.price_history)),num=len(np.array(result.price_history)))\n",
    "agent_1 = np.array(result.price_history)[:,0]\n",
    "agent_2 = np.array(result.price_history)[:,1]\n",
    "agent_3 = np.array(result.price_history)[:,2]\n",
    "\n",
    "df = pd.DataFrame({'agent_1': agent_1, 'agent_2': agent_2,'agent_3': agent_3})\n",
    "plt.figure(figsize=(10, 5), dpi=80)\n",
    "plt.title(\"Time Series of Price for 3 agents\")\n",
    "plt.xlabel(\"Time\")\n",
    "plt.ylabel(\"Price\")\n",
    "plt.plot(df['agent_1'].rolling(10000).mean())\n",
    "plt.plot(df['agent_2'].rolling(10000).mean())\n",
    "plt.plot(df['agent_3'].rolling(10000).mean())"
   ]
  },
  {
   "cell_type": "code",
   "execution_count": 12,
   "id": "ab875f42",
   "metadata": {
    "scrolled": false
   },
   "outputs": [],
   "source": [
    "#[agent.Q_just_initialised for agent in result.env.agents]"
   ]
  },
  {
   "cell_type": "code",
   "execution_count": 4,
   "id": "284e70ec",
   "metadata": {
    "scrolled": true
   },
   "outputs": [
    {
     "data": {
      "text/plain": [
       "[{(1.3701599787269234,\n",
       "   1.3701599787269234,\n",
       "   1.3701599787269234,\n",
       "   1.3701599787269234,\n",
       "   1.3701599787269234,\n",
       "   1.3701599787269234): {1.3701599787269234: 2.7406865701047045,\n",
       "   1.9999999786868579: 2.375272468147548},\n",
       "  (1.3701599787269234,\n",
       "   1.3701599787269234,\n",
       "   1.3701599787269234,\n",
       "   1.3701599787269234,\n",
       "   1.3701599787269234,\n",
       "   1.9999999786868579): {1.3701599787269234: 2.506081486173747,\n",
       "   1.9999999786868579: 2.4658452389335874},\n",
       "  (1.3701599787269234,\n",
       "   1.3701599787269234,\n",
       "   1.3701599787269234,\n",
       "   1.3701599787269234,\n",
       "   1.9999999786868579,\n",
       "   1.3701599787269234): {1.3701599787269234: 2.4809384997813466,\n",
       "   1.9999999786868579: 2.420718427429722},\n",
       "  (1.3701599787269234,\n",
       "   1.3701599787269234,\n",
       "   1.3701599787269234,\n",
       "   1.3701599787269234,\n",
       "   1.9999999786868579,\n",
       "   1.9999999786868579): {1.3701599787269234: 2.64165924021653,\n",
       "   1.9999999786868579: 2.5265666024640048},\n",
       "  (1.3701599787269234,\n",
       "   1.3701599787269234,\n",
       "   1.3701599787269234,\n",
       "   1.9999999786868579,\n",
       "   1.3701599787269234,\n",
       "   1.3701599787269234): {1.3701599787269234: 2.588525992697597,\n",
       "   1.9999999786868579: 2.395987660129994},\n",
       "  (1.3701599787269234,\n",
       "   1.3701599787269234,\n",
       "   1.3701599787269234,\n",
       "   1.9999999786868579,\n",
       "   1.3701599787269234,\n",
       "   1.9999999786868579): {1.3701599787269234: 2.508666331208482,\n",
       "   1.9999999786868579: 2.4409458578640724},\n",
       "  (1.3701599787269234,\n",
       "   1.3701599787269234,\n",
       "   1.3701599787269234,\n",
       "   1.9999999786868579,\n",
       "   1.9999999786868579,\n",
       "   1.3701599787269234): {1.3701599787269234: 2.5322280039771217,\n",
       "   1.9999999786868579: 2.423317346302936},\n",
       "  (1.3701599787269234,\n",
       "   1.3701599787269234,\n",
       "   1.3701599787269234,\n",
       "   1.9999999786868579,\n",
       "   1.9999999786868579,\n",
       "   1.9999999786868579): {1.3701599787269234: 2.5876472255658074,\n",
       "   1.9999999786868579: 2.523540015626525},\n",
       "  (1.3701599787269234,\n",
       "   1.3701599787269234,\n",
       "   1.9999999786868579,\n",
       "   1.3701599787269234,\n",
       "   1.3701599787269234,\n",
       "   1.3701599787269234): {1.3701599787269234: 2.4793915598917233,\n",
       "   1.9999999786868579: 2.839007626944833},\n",
       "  (1.3701599787269234,\n",
       "   1.3701599787269234,\n",
       "   1.9999999786868579,\n",
       "   1.3701599787269234,\n",
       "   1.3701599787269234,\n",
       "   1.9999999786868579): {1.3701599787269234: 2.5440889223925653,\n",
       "   1.9999999786868579: 2.5362042583989446},\n",
       "  (1.3701599787269234,\n",
       "   1.3701599787269234,\n",
       "   1.9999999786868579,\n",
       "   1.3701599787269234,\n",
       "   1.9999999786868579,\n",
       "   1.3701599787269234): {1.3701599787269234: 2.5462290736435556,\n",
       "   1.9999999786868579: 2.473174438048445},\n",
       "  (1.3701599787269234,\n",
       "   1.3701599787269234,\n",
       "   1.9999999786868579,\n",
       "   1.3701599787269234,\n",
       "   1.9999999786868579,\n",
       "   1.9999999786868579): {1.3701599787269234: 2.5472602238529523,\n",
       "   1.9999999786868579: 2.5614414781115187},\n",
       "  (1.3701599787269234,\n",
       "   1.3701599787269234,\n",
       "   1.9999999786868579,\n",
       "   1.9999999786868579,\n",
       "   1.3701599787269234,\n",
       "   1.3701599787269234): {1.3701599787269234: 2.51755611378922,\n",
       "   1.9999999786868579: 2.4741300276627953},\n",
       "  (1.3701599787269234,\n",
       "   1.3701599787269234,\n",
       "   1.9999999786868579,\n",
       "   1.9999999786868579,\n",
       "   1.3701599787269234,\n",
       "   1.9999999786868579): {1.3701599787269234: 2.564997877182164,\n",
       "   1.9999999786868579: 2.5474737768216023},\n",
       "  (1.3701599787269234,\n",
       "   1.3701599787269234,\n",
       "   1.9999999786868579,\n",
       "   1.9999999786868579,\n",
       "   1.9999999786868579,\n",
       "   1.3701599787269234): {1.3701599787269234: 2.5387876449549323,\n",
       "   1.9999999786868579: 2.485860147909105},\n",
       "  (1.3701599787269234,\n",
       "   1.3701599787269234,\n",
       "   1.9999999786868579,\n",
       "   1.9999999786868579,\n",
       "   1.9999999786868579,\n",
       "   1.9999999786868579): {1.3701599787269234: 2.6171544962114446,\n",
       "   1.9999999786868579: 2.6886912470531183},\n",
       "  (1.3701599787269234,\n",
       "   1.9999999786868579,\n",
       "   1.3701599787269234,\n",
       "   1.3701599787269234,\n",
       "   1.3701599787269234,\n",
       "   1.3701599787269234): {1.3701599787269234: 2.495719700126714,\n",
       "   1.9999999786868579: 2.4225582560756127},\n",
       "  (1.3701599787269234,\n",
       "   1.9999999786868579,\n",
       "   1.3701599787269234,\n",
       "   1.3701599787269234,\n",
       "   1.3701599787269234,\n",
       "   1.9999999786868579): {1.3701599787269234: 2.570390325674755,\n",
       "   1.9999999786868579: 2.456864040940893},\n",
       "  (1.3701599787269234,\n",
       "   1.9999999786868579,\n",
       "   1.3701599787269234,\n",
       "   1.3701599787269234,\n",
       "   1.9999999786868579,\n",
       "   1.3701599787269234): {1.3701599787269234: 2.559784846580081,\n",
       "   1.9999999786868579: 2.4634289335400164},\n",
       "  (1.3701599787269234,\n",
       "   1.9999999786868579,\n",
       "   1.3701599787269234,\n",
       "   1.3701599787269234,\n",
       "   1.9999999786868579,\n",
       "   1.9999999786868579): {1.3701599787269234: 2.5695679462522785,\n",
       "   1.9999999786868579: 2.580538828021967},\n",
       "  (1.3701599787269234,\n",
       "   1.9999999786868579,\n",
       "   1.3701599787269234,\n",
       "   1.9999999786868579,\n",
       "   1.3701599787269234,\n",
       "   1.3701599787269234): {1.3701599787269234: 2.510710963994243,\n",
       "   1.9999999786868579: 2.4838745206865287},\n",
       "  (1.3701599787269234,\n",
       "   1.9999999786868579,\n",
       "   1.3701599787269234,\n",
       "   1.9999999786868579,\n",
       "   1.3701599787269234,\n",
       "   1.9999999786868579): {1.3701599787269234: 2.55536047366093,\n",
       "   1.9999999786868579: 2.5534634103388645},\n",
       "  (1.3701599787269234,\n",
       "   1.9999999786868579,\n",
       "   1.3701599787269234,\n",
       "   1.9999999786868579,\n",
       "   1.9999999786868579,\n",
       "   1.3701599787269234): {1.3701599787269234: 2.546372233916302,\n",
       "   1.9999999786868579: 2.530970762103393},\n",
       "  (1.3701599787269234,\n",
       "   1.9999999786868579,\n",
       "   1.3701599787269234,\n",
       "   1.9999999786868579,\n",
       "   1.9999999786868579,\n",
       "   1.9999999786868579): {1.3701599787269234: 2.5819640131753223,\n",
       "   1.9999999786868579: 2.6339440097416107},\n",
       "  (1.3701599787269234,\n",
       "   1.9999999786868579,\n",
       "   1.9999999786868579,\n",
       "   1.3701599787269234,\n",
       "   1.3701599787269234,\n",
       "   1.3701599787269234): {1.3701599787269234: 2.5900808044845345,\n",
       "   1.9999999786868579: 2.589764319842548},\n",
       "  (1.3701599787269234,\n",
       "   1.9999999786868579,\n",
       "   1.9999999786868579,\n",
       "   1.3701599787269234,\n",
       "   1.3701599787269234,\n",
       "   1.9999999786868579): {1.3701599787269234: 2.609428303390186,\n",
       "   1.9999999786868579: 2.586732131465883},\n",
       "  (1.3701599787269234,\n",
       "   1.9999999786868579,\n",
       "   1.9999999786868579,\n",
       "   1.3701599787269234,\n",
       "   1.9999999786868579,\n",
       "   1.3701599787269234): {1.3701599787269234: 2.640980120351464,\n",
       "   1.9999999786868579: 2.61056052991643},\n",
       "  (1.3701599787269234,\n",
       "   1.9999999786868579,\n",
       "   1.9999999786868579,\n",
       "   1.3701599787269234,\n",
       "   1.9999999786868579,\n",
       "   1.9999999786868579): {1.3701599787269234: 2.6133359226221455,\n",
       "   1.9999999786868579: 2.636034338224696},\n",
       "  (1.3701599787269234,\n",
       "   1.9999999786868579,\n",
       "   1.9999999786868579,\n",
       "   1.9999999786868579,\n",
       "   1.3701599787269234,\n",
       "   1.3701599787269234): {1.3701599787269234: 2.600588528688686,\n",
       "   1.9999999786868579: 2.604045837363868},\n",
       "  (1.3701599787269234,\n",
       "   1.9999999786868579,\n",
       "   1.9999999786868579,\n",
       "   1.9999999786868579,\n",
       "   1.3701599787269234,\n",
       "   1.9999999786868579): {1.3701599787269234: 2.6186577005200644,\n",
       "   1.9999999786868579: 2.623254635257551},\n",
       "  (1.3701599787269234,\n",
       "   1.9999999786868579,\n",
       "   1.9999999786868579,\n",
       "   1.9999999786868579,\n",
       "   1.9999999786868579,\n",
       "   1.3701599787269234): {1.3701599787269234: 2.662110828330433,\n",
       "   1.9999999786868579: 2.6448400749791197},\n",
       "  (1.3701599787269234,\n",
       "   1.9999999786868579,\n",
       "   1.9999999786868579,\n",
       "   1.9999999786868579,\n",
       "   1.9999999786868579,\n",
       "   1.9999999786868579): {1.3701599787269234: 2.6876658170261196,\n",
       "   1.9999999786868579: 2.5740392171493136},\n",
       "  (1.9999999786868579,\n",
       "   1.3701599787269234,\n",
       "   1.3701599787269234,\n",
       "   1.3701599787269234,\n",
       "   1.3701599787269234,\n",
       "   1.3701599787269234): {1.3701599787269234: 2.469770930792223,\n",
       "   1.9999999786868579: 2.4248758254310294},\n",
       "  (1.9999999786868579,\n",
       "   1.3701599787269234,\n",
       "   1.3701599787269234,\n",
       "   1.3701599787269234,\n",
       "   1.3701599787269234,\n",
       "   1.9999999786868579): {1.3701599787269234: 2.568140956778233,\n",
       "   1.9999999786868579: 2.437830885774506},\n",
       "  (1.9999999786868579,\n",
       "   1.3701599787269234,\n",
       "   1.3701599787269234,\n",
       "   1.3701599787269234,\n",
       "   1.9999999786868579,\n",
       "   1.3701599787269234): {1.3701599787269234: 2.5308070237625877,\n",
       "   1.9999999786868579: 2.3926308535864114},\n",
       "  (1.9999999786868579,\n",
       "   1.3701599787269234,\n",
       "   1.3701599787269234,\n",
       "   1.3701599787269234,\n",
       "   1.9999999786868579,\n",
       "   1.9999999786868579): {1.3701599787269234: 2.5714753128338486,\n",
       "   1.9999999786868579: 2.5185575831959324},\n",
       "  (1.9999999786868579,\n",
       "   1.3701599787269234,\n",
       "   1.3701599787269234,\n",
       "   1.9999999786868579,\n",
       "   1.3701599787269234,\n",
       "   1.3701599787269234): {1.3701599787269234: 2.5009991174388815,\n",
       "   1.9999999786868579: 2.4277013916333816},\n",
       "  (1.9999999786868579,\n",
       "   1.3701599787269234,\n",
       "   1.3701599787269234,\n",
       "   1.9999999786868579,\n",
       "   1.3701599787269234,\n",
       "   1.9999999786868579): {1.3701599787269234: 2.5359567426650553,\n",
       "   1.9999999786868579: 2.4613817580658517},\n",
       "  (1.9999999786868579,\n",
       "   1.3701599787269234,\n",
       "   1.3701599787269234,\n",
       "   1.9999999786868579,\n",
       "   1.9999999786868579,\n",
       "   1.3701599787269234): {1.3701599787269234: 2.5308617679141103,\n",
       "   1.9999999786868579: 2.504158478678523},\n",
       "  (1.9999999786868579,\n",
       "   1.3701599787269234,\n",
       "   1.3701599787269234,\n",
       "   1.9999999786868579,\n",
       "   1.9999999786868579,\n",
       "   1.9999999786868579): {1.3701599787269234: 2.5967344472015483,\n",
       "   1.9999999786868579: 2.5461050390344213},\n",
       "  (1.9999999786868579,\n",
       "   1.3701599787269234,\n",
       "   1.9999999786868579,\n",
       "   1.3701599787269234,\n",
       "   1.3701599787269234,\n",
       "   1.3701599787269234): {1.3701599787269234: 2.5861614642026787,\n",
       "   1.9999999786868579: 2.477872055378001},\n",
       "  (1.9999999786868579,\n",
       "   1.3701599787269234,\n",
       "   1.9999999786868579,\n",
       "   1.3701599787269234,\n",
       "   1.3701599787269234,\n",
       "   1.9999999786868579): {1.3701599787269234: 2.5466377744251547,\n",
       "   1.9999999786868579: 2.516773446908534},\n",
       "  (1.9999999786868579,\n",
       "   1.3701599787269234,\n",
       "   1.9999999786868579,\n",
       "   1.3701599787269234,\n",
       "   1.9999999786868579,\n",
       "   1.3701599787269234): {1.3701599787269234: 2.612519460573535,\n",
       "   1.9999999786868579: 2.548985417699018},\n",
       "  (1.9999999786868579,\n",
       "   1.3701599787269234,\n",
       "   1.9999999786868579,\n",
       "   1.3701599787269234,\n",
       "   1.9999999786868579,\n",
       "   1.9999999786868579): {1.3701599787269234: 2.639617483771086,\n",
       "   1.9999999786868579: 2.632005092896654},\n",
       "  (1.9999999786868579,\n",
       "   1.3701599787269234,\n",
       "   1.9999999786868579,\n",
       "   1.9999999786868579,\n",
       "   1.3701599787269234,\n",
       "   1.3701599787269234): {1.3701599787269234: 2.543893512788076,\n",
       "   1.9999999786868579: 2.5342415943674244},\n",
       "  (1.9999999786868579,\n",
       "   1.3701599787269234,\n",
       "   1.9999999786868579,\n",
       "   1.9999999786868579,\n",
       "   1.3701599787269234,\n",
       "   1.9999999786868579): {1.3701599787269234: 2.5687394488682473,\n",
       "   1.9999999786868579: 2.5410980653497557},\n",
       "  (1.9999999786868579,\n",
       "   1.3701599787269234,\n",
       "   1.9999999786868579,\n",
       "   1.9999999786868579,\n",
       "   1.9999999786868579,\n",
       "   1.3701599787269234): {1.3701599787269234: 2.5888118477865234,\n",
       "   1.9999999786868579: 2.5354088123591683},\n",
       "  (1.9999999786868579,\n",
       "   1.3701599787269234,\n",
       "   1.9999999786868579,\n",
       "   1.9999999786868579,\n",
       "   1.9999999786868579,\n",
       "   1.9999999786868579): {1.3701599787269234: 2.686940271152607,\n",
       "   1.9999999786868579: 2.6934316358281256},\n",
       "  (1.9999999786868579,\n",
       "   1.9999999786868579,\n",
       "   1.3701599787269234,\n",
       "   1.3701599787269234,\n",
       "   1.3701599787269234,\n",
       "   1.3701599787269234): {1.3701599787269234: 2.5451949844423205,\n",
       "   1.9999999786868579: 2.548770383308757},\n",
       "  (1.9999999786868579,\n",
       "   1.9999999786868579,\n",
       "   1.3701599787269234,\n",
       "   1.3701599787269234,\n",
       "   1.3701599787269234,\n",
       "   1.9999999786868579): {1.3701599787269234: 2.5597353310674236,\n",
       "   1.9999999786868579: 2.563982698032263},\n",
       "  (1.9999999786868579,\n",
       "   1.9999999786868579,\n",
       "   1.3701599787269234,\n",
       "   1.3701599787269234,\n",
       "   1.9999999786868579,\n",
       "   1.3701599787269234): {1.3701599787269234: 2.5708228890758265,\n",
       "   1.9999999786868579: 2.5623181058031994},\n",
       "  (1.9999999786868579,\n",
       "   1.9999999786868579,\n",
       "   1.3701599787269234,\n",
       "   1.3701599787269234,\n",
       "   1.9999999786868579,\n",
       "   1.9999999786868579): {1.3701599787269234: 2.581186917699723,\n",
       "   1.9999999786868579: 2.5779341238379407},\n",
       "  (1.9999999786868579,\n",
       "   1.9999999786868579,\n",
       "   1.3701599787269234,\n",
       "   1.9999999786868579,\n",
       "   1.3701599787269234,\n",
       "   1.3701599787269234): {1.3701599787269234: 2.5549712320701743,\n",
       "   1.9999999786868579: 2.620743935939755},\n",
       "  (1.9999999786868579,\n",
       "   1.9999999786868579,\n",
       "   1.3701599787269234,\n",
       "   1.9999999786868579,\n",
       "   1.3701599787269234,\n",
       "   1.9999999786868579): {1.3701599787269234: 2.6501837876886998,\n",
       "   1.9999999786868579: 2.558379370711151},\n",
       "  (1.9999999786868579,\n",
       "   1.9999999786868579,\n",
       "   1.3701599787269234,\n",
       "   1.9999999786868579,\n",
       "   1.9999999786868579,\n",
       "   1.3701599787269234): {1.3701599787269234: 2.632459054976298,\n",
       "   1.9999999786868579: 2.569037970286367},\n",
       "  (1.9999999786868579,\n",
       "   1.9999999786868579,\n",
       "   1.3701599787269234,\n",
       "   1.9999999786868579,\n",
       "   1.9999999786868579,\n",
       "   1.9999999786868579): {1.3701599787269234: 2.680055362964231,\n",
       "   1.9999999786868579: 2.602189417752509},\n",
       "  (1.9999999786868579,\n",
       "   1.9999999786868579,\n",
       "   1.9999999786868579,\n",
       "   1.3701599787269234,\n",
       "   1.3701599787269234,\n",
       "   1.3701599787269234): {1.3701599787269234: 2.68373196235895,\n",
       "   1.9999999786868579: 2.74415338725156},\n",
       "  (1.9999999786868579,\n",
       "   1.9999999786868579,\n",
       "   1.9999999786868579,\n",
       "   1.3701599787269234,\n",
       "   1.3701599787269234,\n",
       "   1.9999999786868579): {1.3701599787269234: 2.7471278102088763,\n",
       "   1.9999999786868579: 2.917436446938469},\n",
       "  (1.9999999786868579,\n",
       "   1.9999999786868579,\n",
       "   1.9999999786868579,\n",
       "   1.3701599787269234,\n",
       "   1.9999999786868579,\n",
       "   1.3701599787269234): {1.3701599787269234: 2.7323467946061077,\n",
       "   1.9999999786868579: 2.7208476351905437},\n",
       "  (1.9999999786868579,\n",
       "   1.9999999786868579,\n",
       "   1.9999999786868579,\n",
       "   1.3701599787269234,\n",
       "   1.9999999786868579,\n",
       "   1.9999999786868579): {1.3701599787269234: 2.732426897549842,\n",
       "   1.9999999786868579: 2.6870489527050605},\n",
       "  (1.9999999786868579,\n",
       "   1.9999999786868579,\n",
       "   1.9999999786868579,\n",
       "   1.9999999786868579,\n",
       "   1.3701599787269234,\n",
       "   1.3701599787269234): {1.3701599787269234: 2.6752480391773803,\n",
       "   1.9999999786868579: 2.5939572470725096},\n",
       "  (1.9999999786868579,\n",
       "   1.9999999786868579,\n",
       "   1.9999999786868579,\n",
       "   1.9999999786868579,\n",
       "   1.3701599787269234,\n",
       "   1.9999999786868579): {1.3701599787269234: 2.740081940969459,\n",
       "   1.9999999786868579: 2.7590765070127716},\n",
       "  (1.9999999786868579,\n",
       "   1.9999999786868579,\n",
       "   1.9999999786868579,\n",
       "   1.9999999786868579,\n",
       "   1.9999999786868579,\n",
       "   1.3701599787269234): {1.3701599787269234: 2.7087002872059376,\n",
       "   1.9999999786868579: 2.7411513881961356},\n",
       "  (1.9999999786868579,\n",
       "   1.9999999786868579,\n",
       "   1.9999999786868579,\n",
       "   1.9999999786868579,\n",
       "   1.9999999786868579,\n",
       "   1.9999999786868579): {1.3701599787269234: 2.813741280799537,\n",
       "   1.9999999786868579: 4.999999999999954}},\n",
       " {(1.3701599787269234,\n",
       "   1.3701599787269234,\n",
       "   1.3701599787269234,\n",
       "   1.3701599787269234,\n",
       "   1.3701599787269234,\n",
       "   1.3701599787269234): {1.3701599787269234: 2.7432477010932685,\n",
       "   1.9999999786868579: 2.4124266019580225},\n",
       "  (1.3701599787269234,\n",
       "   1.3701599787269234,\n",
       "   1.3701599787269234,\n",
       "   1.3701599787269234,\n",
       "   1.3701599787269234,\n",
       "   1.9999999786868579): {1.3701599787269234: 2.5524373635735143,\n",
       "   1.9999999786868579: 2.421633173826664},\n",
       "  (1.3701599787269234,\n",
       "   1.3701599787269234,\n",
       "   1.3701599787269234,\n",
       "   1.3701599787269234,\n",
       "   1.9999999786868579,\n",
       "   1.3701599787269234): {1.3701599787269234: 2.5391105002576944,\n",
       "   1.9999999786868579: 2.3801993579757266},\n",
       "  (1.3701599787269234,\n",
       "   1.3701599787269234,\n",
       "   1.3701599787269234,\n",
       "   1.3701599787269234,\n",
       "   1.9999999786868579,\n",
       "   1.9999999786868579): {1.3701599787269234: 2.615035330632698,\n",
       "   1.9999999786868579: 2.422521406114046},\n",
       "  (1.3701599787269234,\n",
       "   1.3701599787269234,\n",
       "   1.3701599787269234,\n",
       "   1.9999999786868579,\n",
       "   1.3701599787269234,\n",
       "   1.3701599787269234): {1.3701599787269234: 2.6209182876412096,\n",
       "   1.9999999786868579: 2.449186686316815},\n",
       "  (1.3701599787269234,\n",
       "   1.3701599787269234,\n",
       "   1.3701599787269234,\n",
       "   1.9999999786868579,\n",
       "   1.3701599787269234,\n",
       "   1.9999999786868579): {1.3701599787269234: 2.558239272540303,\n",
       "   1.9999999786868579: 2.488505341296991},\n",
       "  (1.3701599787269234,\n",
       "   1.3701599787269234,\n",
       "   1.3701599787269234,\n",
       "   1.9999999786868579,\n",
       "   1.9999999786868579,\n",
       "   1.3701599787269234): {1.3701599787269234: 2.543080874942523,\n",
       "   1.9999999786868579: 2.448435134655497},\n",
       "  (1.3701599787269234,\n",
       "   1.3701599787269234,\n",
       "   1.3701599787269234,\n",
       "   1.9999999786868579,\n",
       "   1.9999999786868579,\n",
       "   1.9999999786868579): {1.3701599787269234: 2.613621006497655,\n",
       "   1.9999999786868579: 2.544471498127813},\n",
       "  (1.3701599787269234,\n",
       "   1.3701599787269234,\n",
       "   1.9999999786868579,\n",
       "   1.3701599787269234,\n",
       "   1.3701599787269234,\n",
       "   1.3701599787269234): {1.3701599787269234: 2.5437252918614153,\n",
       "   1.9999999786868579: 2.8596764140112154},\n",
       "  (1.3701599787269234,\n",
       "   1.3701599787269234,\n",
       "   1.9999999786868579,\n",
       "   1.3701599787269234,\n",
       "   1.3701599787269234,\n",
       "   1.9999999786868579): {1.3701599787269234: 2.5425038796798485,\n",
       "   1.9999999786868579: 2.5356396828559036},\n",
       "  (1.3701599787269234,\n",
       "   1.3701599787269234,\n",
       "   1.9999999786868579,\n",
       "   1.3701599787269234,\n",
       "   1.9999999786868579,\n",
       "   1.3701599787269234): {1.3701599787269234: 2.518835316598354,\n",
       "   1.9999999786868579: 2.476245018920124},\n",
       "  (1.3701599787269234,\n",
       "   1.3701599787269234,\n",
       "   1.9999999786868579,\n",
       "   1.3701599787269234,\n",
       "   1.9999999786868579,\n",
       "   1.9999999786868579): {1.3701599787269234: 2.5325284521549825,\n",
       "   1.9999999786868579: 2.513987159736788},\n",
       "  (1.3701599787269234,\n",
       "   1.3701599787269234,\n",
       "   1.9999999786868579,\n",
       "   1.9999999786868579,\n",
       "   1.3701599787269234,\n",
       "   1.3701599787269234): {1.3701599787269234: 2.5413017280667067,\n",
       "   1.9999999786868579: 2.487644645612363},\n",
       "  (1.3701599787269234,\n",
       "   1.3701599787269234,\n",
       "   1.9999999786868579,\n",
       "   1.9999999786868579,\n",
       "   1.3701599787269234,\n",
       "   1.9999999786868579): {1.3701599787269234: 2.563237266461417,\n",
       "   1.9999999786868579: 2.5910365383356018},\n",
       "  (1.3701599787269234,\n",
       "   1.3701599787269234,\n",
       "   1.9999999786868579,\n",
       "   1.9999999786868579,\n",
       "   1.9999999786868579,\n",
       "   1.3701599787269234): {1.3701599787269234: 2.5678171241645416,\n",
       "   1.9999999786868579: 2.566367485542308},\n",
       "  (1.3701599787269234,\n",
       "   1.3701599787269234,\n",
       "   1.9999999786868579,\n",
       "   1.9999999786868579,\n",
       "   1.9999999786868579,\n",
       "   1.9999999786868579): {1.3701599787269234: 2.620520856367994,\n",
       "   1.9999999786868579: 2.6915481166065063},\n",
       "  (1.3701599787269234,\n",
       "   1.9999999786868579,\n",
       "   1.3701599787269234,\n",
       "   1.3701599787269234,\n",
       "   1.3701599787269234,\n",
       "   1.3701599787269234): {1.3701599787269234: 2.526335457559656,\n",
       "   1.9999999786868579: 2.3990337262156123},\n",
       "  (1.3701599787269234,\n",
       "   1.9999999786868579,\n",
       "   1.3701599787269234,\n",
       "   1.3701599787269234,\n",
       "   1.3701599787269234,\n",
       "   1.9999999786868579): {1.3701599787269234: 2.519356303096483,\n",
       "   1.9999999786868579: 2.4128805693043605},\n",
       "  (1.3701599787269234,\n",
       "   1.9999999786868579,\n",
       "   1.3701599787269234,\n",
       "   1.3701599787269234,\n",
       "   1.9999999786868579,\n",
       "   1.3701599787269234): {1.3701599787269234: 2.4795749594159706,\n",
       "   1.9999999786868579: 2.4020367014223942},\n",
       "  (1.3701599787269234,\n",
       "   1.9999999786868579,\n",
       "   1.3701599787269234,\n",
       "   1.3701599787269234,\n",
       "   1.9999999786868579,\n",
       "   1.9999999786868579): {1.3701599787269234: 2.547274852480149,\n",
       "   1.9999999786868579: 2.565749547086023},\n",
       "  (1.3701599787269234,\n",
       "   1.9999999786868579,\n",
       "   1.3701599787269234,\n",
       "   1.9999999786868579,\n",
       "   1.3701599787269234,\n",
       "   1.3701599787269234): {1.3701599787269234: 2.532901311336232,\n",
       "   1.9999999786868579: 2.4418572077940093},\n",
       "  (1.3701599787269234,\n",
       "   1.9999999786868579,\n",
       "   1.3701599787269234,\n",
       "   1.9999999786868579,\n",
       "   1.3701599787269234,\n",
       "   1.9999999786868579): {1.3701599787269234: 2.568752361402857,\n",
       "   1.9999999786868579: 2.5349036265901015},\n",
       "  (1.3701599787269234,\n",
       "   1.9999999786868579,\n",
       "   1.3701599787269234,\n",
       "   1.9999999786868579,\n",
       "   1.9999999786868579,\n",
       "   1.3701599787269234): {1.3701599787269234: 2.541084300391911,\n",
       "   1.9999999786868579: 2.4910489784009253},\n",
       "  (1.3701599787269234,\n",
       "   1.9999999786868579,\n",
       "   1.3701599787269234,\n",
       "   1.9999999786868579,\n",
       "   1.9999999786868579,\n",
       "   1.9999999786868579): {1.3701599787269234: 2.59140982766211,\n",
       "   1.9999999786868579: 2.7485498955789636},\n",
       "  (1.3701599787269234,\n",
       "   1.9999999786868579,\n",
       "   1.9999999786868579,\n",
       "   1.3701599787269234,\n",
       "   1.3701599787269234,\n",
       "   1.3701599787269234): {1.3701599787269234: 2.5443225277601647,\n",
       "   1.9999999786868579: 2.5914289881185506},\n",
       "  (1.3701599787269234,\n",
       "   1.9999999786868579,\n",
       "   1.9999999786868579,\n",
       "   1.3701599787269234,\n",
       "   1.3701599787269234,\n",
       "   1.9999999786868579): {1.3701599787269234: 2.5633471578953277,\n",
       "   1.9999999786868579: 2.54861686615654},\n",
       "  (1.3701599787269234,\n",
       "   1.9999999786868579,\n",
       "   1.9999999786868579,\n",
       "   1.3701599787269234,\n",
       "   1.9999999786868579,\n",
       "   1.3701599787269234): {1.3701599787269234: 2.566663352192798,\n",
       "   1.9999999786868579: 2.5484992515024754},\n",
       "  (1.3701599787269234,\n",
       "   1.9999999786868579,\n",
       "   1.9999999786868579,\n",
       "   1.3701599787269234,\n",
       "   1.9999999786868579,\n",
       "   1.9999999786868579): {1.3701599787269234: 2.577706945555057,\n",
       "   1.9999999786868579: 2.57391118583023},\n",
       "  (1.3701599787269234,\n",
       "   1.9999999786868579,\n",
       "   1.9999999786868579,\n",
       "   1.9999999786868579,\n",
       "   1.3701599787269234,\n",
       "   1.3701599787269234): {1.3701599787269234: 2.561440938373146,\n",
       "   1.9999999786868579: 2.5338375983602406},\n",
       "  (1.3701599787269234,\n",
       "   1.9999999786868579,\n",
       "   1.9999999786868579,\n",
       "   1.9999999786868579,\n",
       "   1.3701599787269234,\n",
       "   1.9999999786868579): {1.3701599787269234: 2.5882754967785924,\n",
       "   1.9999999786868579: 2.634926625137667},\n",
       "  (1.3701599787269234,\n",
       "   1.9999999786868579,\n",
       "   1.9999999786868579,\n",
       "   1.9999999786868579,\n",
       "   1.9999999786868579,\n",
       "   1.3701599787269234): {1.3701599787269234: 2.6227379172353267,\n",
       "   1.9999999786868579: 2.655722768214392},\n",
       "  (1.3701599787269234,\n",
       "   1.9999999786868579,\n",
       "   1.9999999786868579,\n",
       "   1.9999999786868579,\n",
       "   1.9999999786868579,\n",
       "   1.9999999786868579): {1.3701599787269234: 2.632808870835392,\n",
       "   1.9999999786868579: 2.5747625279412203},\n",
       "  (1.9999999786868579,\n",
       "   1.3701599787269234,\n",
       "   1.3701599787269234,\n",
       "   1.3701599787269234,\n",
       "   1.3701599787269234,\n",
       "   1.3701599787269234): {1.3701599787269234: 2.564784367141263,\n",
       "   1.9999999786868579: 2.436536033570015},\n",
       "  (1.9999999786868579,\n",
       "   1.3701599787269234,\n",
       "   1.3701599787269234,\n",
       "   1.3701599787269234,\n",
       "   1.3701599787269234,\n",
       "   1.9999999786868579): {1.3701599787269234: 2.535784266903569,\n",
       "   1.9999999786868579: 2.500681829879299},\n",
       "  (1.9999999786868579,\n",
       "   1.3701599787269234,\n",
       "   1.3701599787269234,\n",
       "   1.3701599787269234,\n",
       "   1.9999999786868579,\n",
       "   1.3701599787269234): {1.3701599787269234: 2.5293771185189473,\n",
       "   1.9999999786868579: 2.496315253857987},\n",
       "  (1.9999999786868579,\n",
       "   1.3701599787269234,\n",
       "   1.3701599787269234,\n",
       "   1.3701599787269234,\n",
       "   1.9999999786868579,\n",
       "   1.9999999786868579): {1.3701599787269234: 2.5849837667357183,\n",
       "   1.9999999786868579: 2.549509804433673},\n",
       "  (1.9999999786868579,\n",
       "   1.3701599787269234,\n",
       "   1.3701599787269234,\n",
       "   1.9999999786868579,\n",
       "   1.3701599787269234,\n",
       "   1.3701599787269234): {1.3701599787269234: 2.5578660160979805,\n",
       "   1.9999999786868579: 2.4723406777389227},\n",
       "  (1.9999999786868579,\n",
       "   1.3701599787269234,\n",
       "   1.3701599787269234,\n",
       "   1.9999999786868579,\n",
       "   1.3701599787269234,\n",
       "   1.9999999786868579): {1.3701599787269234: 2.566220831620799,\n",
       "   1.9999999786868579: 2.523295518853109},\n",
       "  (1.9999999786868579,\n",
       "   1.3701599787269234,\n",
       "   1.3701599787269234,\n",
       "   1.9999999786868579,\n",
       "   1.9999999786868579,\n",
       "   1.3701599787269234): {1.3701599787269234: 2.602503869967491,\n",
       "   1.9999999786868579: 2.496706775488362},\n",
       "  (1.9999999786868579,\n",
       "   1.3701599787269234,\n",
       "   1.3701599787269234,\n",
       "   1.9999999786868579,\n",
       "   1.9999999786868579,\n",
       "   1.9999999786868579): {1.3701599787269234: 2.6506152056266066,\n",
       "   1.9999999786868579: 2.619126563561927},\n",
       "  (1.9999999786868579,\n",
       "   1.3701599787269234,\n",
       "   1.9999999786868579,\n",
       "   1.3701599787269234,\n",
       "   1.3701599787269234,\n",
       "   1.3701599787269234): {1.3701599787269234: 2.5865314051695774,\n",
       "   1.9999999786868579: 2.5395359122816235},\n",
       "  (1.9999999786868579,\n",
       "   1.3701599787269234,\n",
       "   1.9999999786868579,\n",
       "   1.3701599787269234,\n",
       "   1.3701599787269234,\n",
       "   1.9999999786868579): {1.3701599787269234: 2.606649593553156,\n",
       "   1.9999999786868579: 2.566960258175459},\n",
       "  (1.9999999786868579,\n",
       "   1.3701599787269234,\n",
       "   1.9999999786868579,\n",
       "   1.3701599787269234,\n",
       "   1.9999999786868579,\n",
       "   1.3701599787269234): {1.3701599787269234: 2.6655109303289173,\n",
       "   1.9999999786868579: 2.6312873571070514},\n",
       "  (1.9999999786868579,\n",
       "   1.3701599787269234,\n",
       "   1.9999999786868579,\n",
       "   1.3701599787269234,\n",
       "   1.9999999786868579,\n",
       "   1.9999999786868579): {1.3701599787269234: 2.690477740575295,\n",
       "   1.9999999786868579: 2.6573903338936438},\n",
       "  (1.9999999786868579,\n",
       "   1.3701599787269234,\n",
       "   1.9999999786868579,\n",
       "   1.9999999786868579,\n",
       "   1.3701599787269234,\n",
       "   1.3701599787269234): {1.3701599787269234: 2.58918463502897,\n",
       "   1.9999999786868579: 2.557124162631254},\n",
       "  (1.9999999786868579,\n",
       "   1.3701599787269234,\n",
       "   1.9999999786868579,\n",
       "   1.9999999786868579,\n",
       "   1.3701599787269234,\n",
       "   1.9999999786868579): {1.3701599787269234: 2.6146589118527626,\n",
       "   1.9999999786868579: 2.675405921527109},\n",
       "  (1.9999999786868579,\n",
       "   1.3701599787269234,\n",
       "   1.9999999786868579,\n",
       "   1.9999999786868579,\n",
       "   1.9999999786868579,\n",
       "   1.3701599787269234): {1.3701599787269234: 2.671674133440902,\n",
       "   1.9999999786868579: 2.600971660511086},\n",
       "  (1.9999999786868579,\n",
       "   1.3701599787269234,\n",
       "   1.9999999786868579,\n",
       "   1.9999999786868579,\n",
       "   1.9999999786868579,\n",
       "   1.9999999786868579): {1.3701599787269234: 2.6879760173229226,\n",
       "   1.9999999786868579: 2.7051513959302107},\n",
       "  (1.9999999786868579,\n",
       "   1.9999999786868579,\n",
       "   1.3701599787269234,\n",
       "   1.3701599787269234,\n",
       "   1.3701599787269234,\n",
       "   1.3701599787269234): {1.3701599787269234: 2.5691774633746363,\n",
       "   1.9999999786868579: 2.562557061777382},\n",
       "  (1.9999999786868579,\n",
       "   1.9999999786868579,\n",
       "   1.3701599787269234,\n",
       "   1.3701599787269234,\n",
       "   1.3701599787269234,\n",
       "   1.9999999786868579): {1.3701599787269234: 2.5877503709032474,\n",
       "   1.9999999786868579: 2.543872766723173},\n",
       "  (1.9999999786868579,\n",
       "   1.9999999786868579,\n",
       "   1.3701599787269234,\n",
       "   1.3701599787269234,\n",
       "   1.9999999786868579,\n",
       "   1.3701599787269234): {1.3701599787269234: 2.5901553364984444,\n",
       "   1.9999999786868579: 2.5326613120321406},\n",
       "  (1.9999999786868579,\n",
       "   1.9999999786868579,\n",
       "   1.3701599787269234,\n",
       "   1.3701599787269234,\n",
       "   1.9999999786868579,\n",
       "   1.9999999786868579): {1.3701599787269234: 2.6390307680775433,\n",
       "   1.9999999786868579: 2.606654574660493},\n",
       "  (1.9999999786868579,\n",
       "   1.9999999786868579,\n",
       "   1.3701599787269234,\n",
       "   1.9999999786868579,\n",
       "   1.3701599787269234,\n",
       "   1.3701599787269234): {1.3701599787269234: 2.623182252775106,\n",
       "   1.9999999786868579: 2.651255043134323},\n",
       "  (1.9999999786868579,\n",
       "   1.9999999786868579,\n",
       "   1.3701599787269234,\n",
       "   1.9999999786868579,\n",
       "   1.3701599787269234,\n",
       "   1.9999999786868579): {1.3701599787269234: 2.6454242089466558,\n",
       "   1.9999999786868579: 2.595097834358965},\n",
       "  (1.9999999786868579,\n",
       "   1.9999999786868579,\n",
       "   1.3701599787269234,\n",
       "   1.9999999786868579,\n",
       "   1.9999999786868579,\n",
       "   1.3701599787269234): {1.3701599787269234: 2.6038353000403314,\n",
       "   1.9999999786868579: 2.561285125418851},\n",
       "  (1.9999999786868579,\n",
       "   1.9999999786868579,\n",
       "   1.3701599787269234,\n",
       "   1.9999999786868579,\n",
       "   1.9999999786868579,\n",
       "   1.9999999786868579): {1.3701599787269234: 2.7042722291963037,\n",
       "   1.9999999786868579: 2.6308729426285327},\n",
       "  (1.9999999786868579,\n",
       "   1.9999999786868579,\n",
       "   1.9999999786868579,\n",
       "   1.3701599787269234,\n",
       "   1.3701599787269234,\n",
       "   1.3701599787269234): {1.3701599787269234: 2.64247635419439,\n",
       "   1.9999999786868579: 2.7919495639129353},\n",
       "  (1.9999999786868579,\n",
       "   1.9999999786868579,\n",
       "   1.9999999786868579,\n",
       "   1.3701599787269234,\n",
       "   1.3701599787269234,\n",
       "   1.9999999786868579): {1.3701599787269234: 2.6865694448935216,\n",
       "   1.9999999786868579: 2.8224549209575187},\n",
       "  (1.9999999786868579,\n",
       "   1.9999999786868579,\n",
       "   1.9999999786868579,\n",
       "   1.3701599787269234,\n",
       "   1.9999999786868579,\n",
       "   1.3701599787269234): {1.3701599787269234: 2.696510647086735,\n",
       "   1.9999999786868579: 2.6752648326902797},\n",
       "  (1.9999999786868579,\n",
       "   1.9999999786868579,\n",
       "   1.9999999786868579,\n",
       "   1.3701599787269234,\n",
       "   1.9999999786868579,\n",
       "   1.9999999786868579): {1.3701599787269234: 2.7387667567057354,\n",
       "   1.9999999786868579: 2.7650082409772496},\n",
       "  (1.9999999786868579,\n",
       "   1.9999999786868579,\n",
       "   1.9999999786868579,\n",
       "   1.9999999786868579,\n",
       "   1.3701599787269234,\n",
       "   1.3701599787269234): {1.3701599787269234: 2.6873016423370686,\n",
       "   1.9999999786868579: 2.6463814663437475},\n",
       "  (1.9999999786868579,\n",
       "   1.9999999786868579,\n",
       "   1.9999999786868579,\n",
       "   1.9999999786868579,\n",
       "   1.3701599787269234,\n",
       "   1.9999999786868579): {1.3701599787269234: 2.7557976358432916,\n",
       "   1.9999999786868579: 2.719066649444699},\n",
       "  (1.9999999786868579,\n",
       "   1.9999999786868579,\n",
       "   1.9999999786868579,\n",
       "   1.9999999786868579,\n",
       "   1.9999999786868579,\n",
       "   1.3701599787269234): {1.3701599787269234: 2.6877960879309097,\n",
       "   1.9999999786868579: 2.7357936065209945},\n",
       "  (1.9999999786868579,\n",
       "   1.9999999786868579,\n",
       "   1.9999999786868579,\n",
       "   1.9999999786868579,\n",
       "   1.9999999786868579,\n",
       "   1.9999999786868579): {1.3701599787269234: 2.7999357846434845,\n",
       "   1.9999999786868579: 4.999999999999954}},\n",
       " {(1.3701599787269234,\n",
       "   1.3701599787269234,\n",
       "   1.3701599787269234,\n",
       "   1.3701599787269234,\n",
       "   1.3701599787269234,\n",
       "   1.3701599787269234): {1.3701599787269234: 2.5009584950553228,\n",
       "   1.9999999786868579: 2.6249073805151237},\n",
       "  (1.3701599787269234,\n",
       "   1.3701599787269234,\n",
       "   1.3701599787269234,\n",
       "   1.3701599787269234,\n",
       "   1.3701599787269234,\n",
       "   1.9999999786868579): {1.3701599787269234: 2.5012611416219883,\n",
       "   1.9999999786868579: 2.41185533380946},\n",
       "  (1.3701599787269234,\n",
       "   1.3701599787269234,\n",
       "   1.3701599787269234,\n",
       "   1.3701599787269234,\n",
       "   1.9999999786868579,\n",
       "   1.3701599787269234): {1.3701599787269234: 2.522835771041783,\n",
       "   1.9999999786868579: 2.411178804650273},\n",
       "  (1.3701599787269234,\n",
       "   1.3701599787269234,\n",
       "   1.3701599787269234,\n",
       "   1.3701599787269234,\n",
       "   1.9999999786868579,\n",
       "   1.9999999786868579): {1.3701599787269234: 2.5343034345783075,\n",
       "   1.9999999786868579: 2.5490639933053183},\n",
       "  (1.3701599787269234,\n",
       "   1.3701599787269234,\n",
       "   1.3701599787269234,\n",
       "   1.9999999786868579,\n",
       "   1.3701599787269234,\n",
       "   1.3701599787269234): {1.3701599787269234: 2.5297715373413667,\n",
       "   1.9999999786868579: 2.4842558661642737},\n",
       "  (1.3701599787269234,\n",
       "   1.3701599787269234,\n",
       "   1.3701599787269234,\n",
       "   1.9999999786868579,\n",
       "   1.3701599787269234,\n",
       "   1.9999999786868579): {1.3701599787269234: 2.507346398740471,\n",
       "   1.9999999786868579: 2.4235613616453087},\n",
       "  (1.3701599787269234,\n",
       "   1.3701599787269234,\n",
       "   1.3701599787269234,\n",
       "   1.9999999786868579,\n",
       "   1.9999999786868579,\n",
       "   1.3701599787269234): {1.3701599787269234: 2.5546013147640103,\n",
       "   1.9999999786868579: 2.4704989177734427},\n",
       "  (1.3701599787269234,\n",
       "   1.3701599787269234,\n",
       "   1.3701599787269234,\n",
       "   1.9999999786868579,\n",
       "   1.9999999786868579,\n",
       "   1.9999999786868579): {1.3701599787269234: 2.593659058354154,\n",
       "   1.9999999786868579: 2.51444886810998},\n",
       "  (1.3701599787269234,\n",
       "   1.3701599787269234,\n",
       "   1.9999999786868579,\n",
       "   1.3701599787269234,\n",
       "   1.3701599787269234,\n",
       "   1.3701599787269234): {1.3701599787269234: 2.5333731819919687,\n",
       "   1.9999999786868579: 2.87659595634984},\n",
       "  (1.3701599787269234,\n",
       "   1.3701599787269234,\n",
       "   1.9999999786868579,\n",
       "   1.3701599787269234,\n",
       "   1.3701599787269234,\n",
       "   1.9999999786868579): {1.3701599787269234: 2.4864924245496978,\n",
       "   1.9999999786868579: 2.501460504097044},\n",
       "  (1.3701599787269234,\n",
       "   1.3701599787269234,\n",
       "   1.9999999786868579,\n",
       "   1.3701599787269234,\n",
       "   1.9999999786868579,\n",
       "   1.3701599787269234): {1.3701599787269234: 2.515805414047237,\n",
       "   1.9999999786868579: 2.416429154261394},\n",
       "  (1.3701599787269234,\n",
       "   1.3701599787269234,\n",
       "   1.9999999786868579,\n",
       "   1.3701599787269234,\n",
       "   1.9999999786868579,\n",
       "   1.9999999786868579): {1.3701599787269234: 2.5298986806650894,\n",
       "   1.9999999786868579: 2.4865747838651764},\n",
       "  (1.3701599787269234,\n",
       "   1.3701599787269234,\n",
       "   1.9999999786868579,\n",
       "   1.9999999786868579,\n",
       "   1.3701599787269234,\n",
       "   1.3701599787269234): {1.3701599787269234: 2.4916769486011745,\n",
       "   1.9999999786868579: 2.413194437309997},\n",
       "  (1.3701599787269234,\n",
       "   1.3701599787269234,\n",
       "   1.9999999786868579,\n",
       "   1.9999999786868579,\n",
       "   1.3701599787269234,\n",
       "   1.9999999786868579): {1.3701599787269234: 2.5423979409526263,\n",
       "   1.9999999786868579: 2.5198348841188767},\n",
       "  (1.3701599787269234,\n",
       "   1.3701599787269234,\n",
       "   1.9999999786868579,\n",
       "   1.9999999786868579,\n",
       "   1.9999999786868579,\n",
       "   1.3701599787269234): {1.3701599787269234: 2.5743943601451256,\n",
       "   1.9999999786868579: 2.5876143163119245},\n",
       "  (1.3701599787269234,\n",
       "   1.3701599787269234,\n",
       "   1.9999999786868579,\n",
       "   1.9999999786868579,\n",
       "   1.9999999786868579,\n",
       "   1.9999999786868579): {1.3701599787269234: 2.6305406835770713,\n",
       "   1.9999999786868579: 2.6857835679880604},\n",
       "  (1.3701599787269234,\n",
       "   1.9999999786868579,\n",
       "   1.3701599787269234,\n",
       "   1.3701599787269234,\n",
       "   1.3701599787269234,\n",
       "   1.3701599787269234): {1.3701599787269234: 2.52426220029411,\n",
       "   1.9999999786868579: 2.413916446522749},\n",
       "  (1.3701599787269234,\n",
       "   1.9999999786868579,\n",
       "   1.3701599787269234,\n",
       "   1.3701599787269234,\n",
       "   1.3701599787269234,\n",
       "   1.9999999786868579): {1.3701599787269234: 2.5415918746522785,\n",
       "   1.9999999786868579: 2.4559880269918755},\n",
       "  (1.3701599787269234,\n",
       "   1.9999999786868579,\n",
       "   1.3701599787269234,\n",
       "   1.3701599787269234,\n",
       "   1.9999999786868579,\n",
       "   1.3701599787269234): {1.3701599787269234: 2.5646045612264396,\n",
       "   1.9999999786868579: 2.476468020936296},\n",
       "  (1.3701599787269234,\n",
       "   1.9999999786868579,\n",
       "   1.3701599787269234,\n",
       "   1.3701599787269234,\n",
       "   1.9999999786868579,\n",
       "   1.9999999786868579): {1.3701599787269234: 2.552349408481574,\n",
       "   1.9999999786868579: 2.592213670013032},\n",
       "  (1.3701599787269234,\n",
       "   1.9999999786868579,\n",
       "   1.3701599787269234,\n",
       "   1.9999999786868579,\n",
       "   1.3701599787269234,\n",
       "   1.3701599787269234): {1.3701599787269234: 2.529673614995592,\n",
       "   1.9999999786868579: 2.48912673602485},\n",
       "  (1.3701599787269234,\n",
       "   1.9999999786868579,\n",
       "   1.3701599787269234,\n",
       "   1.9999999786868579,\n",
       "   1.3701599787269234,\n",
       "   1.9999999786868579): {1.3701599787269234: 2.570529167024937,\n",
       "   1.9999999786868579: 2.577439567259938},\n",
       "  (1.3701599787269234,\n",
       "   1.9999999786868579,\n",
       "   1.3701599787269234,\n",
       "   1.9999999786868579,\n",
       "   1.9999999786868579,\n",
       "   1.3701599787269234): {1.3701599787269234: 2.5728541559501994,\n",
       "   1.9999999786868579: 2.5294453590407215},\n",
       "  (1.3701599787269234,\n",
       "   1.9999999786868579,\n",
       "   1.3701599787269234,\n",
       "   1.9999999786868579,\n",
       "   1.9999999786868579,\n",
       "   1.9999999786868579): {1.3701599787269234: 2.602988832086243,\n",
       "   1.9999999786868579: 2.600593138723934},\n",
       "  (1.3701599787269234,\n",
       "   1.9999999786868579,\n",
       "   1.9999999786868579,\n",
       "   1.3701599787269234,\n",
       "   1.3701599787269234,\n",
       "   1.3701599787269234): {1.3701599787269234: 2.550446345576716,\n",
       "   1.9999999786868579: 2.554758297256119},\n",
       "  (1.3701599787269234,\n",
       "   1.9999999786868579,\n",
       "   1.9999999786868579,\n",
       "   1.3701599787269234,\n",
       "   1.3701599787269234,\n",
       "   1.9999999786868579): {1.3701599787269234: 2.61001369726859,\n",
       "   1.9999999786868579: 2.553935594816743},\n",
       "  (1.3701599787269234,\n",
       "   1.9999999786868579,\n",
       "   1.9999999786868579,\n",
       "   1.3701599787269234,\n",
       "   1.9999999786868579,\n",
       "   1.3701599787269234): {1.3701599787269234: 2.5738548395533503,\n",
       "   1.9999999786868579: 2.5634665715025577},\n",
       "  (1.3701599787269234,\n",
       "   1.9999999786868579,\n",
       "   1.9999999786868579,\n",
       "   1.3701599787269234,\n",
       "   1.9999999786868579,\n",
       "   1.9999999786868579): {1.3701599787269234: 2.594339875882536,\n",
       "   1.9999999786868579: 2.5345917085503347},\n",
       "  (1.3701599787269234,\n",
       "   1.9999999786868579,\n",
       "   1.9999999786868579,\n",
       "   1.9999999786868579,\n",
       "   1.3701599787269234,\n",
       "   1.3701599787269234): {1.3701599787269234: 2.553311068398405,\n",
       "   1.9999999786868579: 2.601936415275173},\n",
       "  (1.3701599787269234,\n",
       "   1.9999999786868579,\n",
       "   1.9999999786868579,\n",
       "   1.9999999786868579,\n",
       "   1.3701599787269234,\n",
       "   1.9999999786868579): {1.3701599787269234: 2.63323583302608,\n",
       "   1.9999999786868579: 2.6076735329160736},\n",
       "  (1.3701599787269234,\n",
       "   1.9999999786868579,\n",
       "   1.9999999786868579,\n",
       "   1.9999999786868579,\n",
       "   1.9999999786868579,\n",
       "   1.3701599787269234): {1.3701599787269234: 2.621749875365931,\n",
       "   1.9999999786868579: 2.6970762621105773},\n",
       "  (1.3701599787269234,\n",
       "   1.9999999786868579,\n",
       "   1.9999999786868579,\n",
       "   1.9999999786868579,\n",
       "   1.9999999786868579,\n",
       "   1.9999999786868579): {1.3701599787269234: 2.7099094755457465,\n",
       "   1.9999999786868579: 2.63378904674408},\n",
       "  (1.9999999786868579,\n",
       "   1.3701599787269234,\n",
       "   1.3701599787269234,\n",
       "   1.3701599787269234,\n",
       "   1.3701599787269234,\n",
       "   1.3701599787269234): {1.3701599787269234: 2.5359055789902287,\n",
       "   1.9999999786868579: 2.442680487490481},\n",
       "  (1.9999999786868579,\n",
       "   1.3701599787269234,\n",
       "   1.3701599787269234,\n",
       "   1.3701599787269234,\n",
       "   1.3701599787269234,\n",
       "   1.9999999786868579): {1.3701599787269234: 2.5788667229788556,\n",
       "   1.9999999786868579: 2.4870560703759517},\n",
       "  (1.9999999786868579,\n",
       "   1.3701599787269234,\n",
       "   1.3701599787269234,\n",
       "   1.3701599787269234,\n",
       "   1.9999999786868579,\n",
       "   1.3701599787269234): {1.3701599787269234: 2.5514874818790116,\n",
       "   1.9999999786868579: 2.485877995160819},\n",
       "  (1.9999999786868579,\n",
       "   1.3701599787269234,\n",
       "   1.3701599787269234,\n",
       "   1.3701599787269234,\n",
       "   1.9999999786868579,\n",
       "   1.9999999786868579): {1.3701599787269234: 2.5739043492893687,\n",
       "   1.9999999786868579: 2.525618924454079},\n",
       "  (1.9999999786868579,\n",
       "   1.3701599787269234,\n",
       "   1.3701599787269234,\n",
       "   1.9999999786868579,\n",
       "   1.3701599787269234,\n",
       "   1.3701599787269234): {1.3701599787269234: 2.539115797975619,\n",
       "   1.9999999786868579: 2.474936397786724},\n",
       "  (1.9999999786868579,\n",
       "   1.3701599787269234,\n",
       "   1.3701599787269234,\n",
       "   1.9999999786868579,\n",
       "   1.3701599787269234,\n",
       "   1.9999999786868579): {1.3701599787269234: 2.5421728250968143,\n",
       "   1.9999999786868579: 2.5097115021472494},\n",
       "  (1.9999999786868579,\n",
       "   1.3701599787269234,\n",
       "   1.3701599787269234,\n",
       "   1.9999999786868579,\n",
       "   1.9999999786868579,\n",
       "   1.3701599787269234): {1.3701599787269234: 2.594214436918337,\n",
       "   1.9999999786868579: 2.539101301434682},\n",
       "  (1.9999999786868579,\n",
       "   1.3701599787269234,\n",
       "   1.3701599787269234,\n",
       "   1.9999999786868579,\n",
       "   1.9999999786868579,\n",
       "   1.9999999786868579): {1.3701599787269234: 2.645737498184537,\n",
       "   1.9999999786868579: 2.583552387861168},\n",
       "  (1.9999999786868579,\n",
       "   1.3701599787269234,\n",
       "   1.9999999786868579,\n",
       "   1.3701599787269234,\n",
       "   1.3701599787269234,\n",
       "   1.3701599787269234): {1.3701599787269234: 2.533032985506294,\n",
       "   1.9999999786868579: 2.491834274627628},\n",
       "  (1.9999999786868579,\n",
       "   1.3701599787269234,\n",
       "   1.9999999786868579,\n",
       "   1.3701599787269234,\n",
       "   1.3701599787269234,\n",
       "   1.9999999786868579): {1.3701599787269234: 2.5902625043957235,\n",
       "   1.9999999786868579: 2.5623666392012954},\n",
       "  (1.9999999786868579,\n",
       "   1.3701599787269234,\n",
       "   1.9999999786868579,\n",
       "   1.3701599787269234,\n",
       "   1.9999999786868579,\n",
       "   1.3701599787269234): {1.3701599787269234: 2.5876872820443024,\n",
       "   1.9999999786868579: 2.5369413238857375},\n",
       "  (1.9999999786868579,\n",
       "   1.3701599787269234,\n",
       "   1.9999999786868579,\n",
       "   1.3701599787269234,\n",
       "   1.9999999786868579,\n",
       "   1.9999999786868579): {1.3701599787269234: 2.628415051888273,\n",
       "   1.9999999786868579: 2.5902813941992724},\n",
       "  (1.9999999786868579,\n",
       "   1.3701599787269234,\n",
       "   1.9999999786868579,\n",
       "   1.9999999786868579,\n",
       "   1.3701599787269234,\n",
       "   1.3701599787269234): {1.3701599787269234: 2.533886377284766,\n",
       "   1.9999999786868579: 2.5721711251871455},\n",
       "  (1.9999999786868579,\n",
       "   1.3701599787269234,\n",
       "   1.9999999786868579,\n",
       "   1.9999999786868579,\n",
       "   1.3701599787269234,\n",
       "   1.9999999786868579): {1.3701599787269234: 2.5754770490989323,\n",
       "   1.9999999786868579: 2.636299234982699},\n",
       "  (1.9999999786868579,\n",
       "   1.3701599787269234,\n",
       "   1.9999999786868579,\n",
       "   1.9999999786868579,\n",
       "   1.9999999786868579,\n",
       "   1.3701599787269234): {1.3701599787269234: 2.638084346098623,\n",
       "   1.9999999786868579: 2.561711588306645},\n",
       "  (1.9999999786868579,\n",
       "   1.3701599787269234,\n",
       "   1.9999999786868579,\n",
       "   1.9999999786868579,\n",
       "   1.9999999786868579,\n",
       "   1.9999999786868579): {1.3701599787269234: 2.7151357333346846,\n",
       "   1.9999999786868579: 2.665794018302388},\n",
       "  (1.9999999786868579,\n",
       "   1.9999999786868579,\n",
       "   1.3701599787269234,\n",
       "   1.3701599787269234,\n",
       "   1.3701599787269234,\n",
       "   1.3701599787269234): {1.3701599787269234: 2.569103390078499,\n",
       "   1.9999999786868579: 2.5729638903057284},\n",
       "  (1.9999999786868579,\n",
       "   1.9999999786868579,\n",
       "   1.3701599787269234,\n",
       "   1.3701599787269234,\n",
       "   1.3701599787269234,\n",
       "   1.9999999786868579): {1.3701599787269234: 2.594451917671324,\n",
       "   1.9999999786868579: 2.5989875195688135},\n",
       "  (1.9999999786868579,\n",
       "   1.9999999786868579,\n",
       "   1.3701599787269234,\n",
       "   1.3701599787269234,\n",
       "   1.9999999786868579,\n",
       "   1.3701599787269234): {1.3701599787269234: 2.6078391788863193,\n",
       "   1.9999999786868579: 2.6041137113778756},\n",
       "  (1.9999999786868579,\n",
       "   1.9999999786868579,\n",
       "   1.3701599787269234,\n",
       "   1.3701599787269234,\n",
       "   1.9999999786868579,\n",
       "   1.9999999786868579): {1.3701599787269234: 2.6284739344588393,\n",
       "   1.9999999786868579: 2.5838612269505443},\n",
       "  (1.9999999786868579,\n",
       "   1.9999999786868579,\n",
       "   1.3701599787269234,\n",
       "   1.9999999786868579,\n",
       "   1.3701599787269234,\n",
       "   1.3701599787269234): {1.3701599787269234: 2.5994856240501556,\n",
       "   1.9999999786868579: 2.633395412341288},\n",
       "  (1.9999999786868579,\n",
       "   1.9999999786868579,\n",
       "   1.3701599787269234,\n",
       "   1.9999999786868579,\n",
       "   1.3701599787269234,\n",
       "   1.9999999786868579): {1.3701599787269234: 2.63477366462106,\n",
       "   1.9999999786868579: 2.6324266379207217},\n",
       "  (1.9999999786868579,\n",
       "   1.9999999786868579,\n",
       "   1.3701599787269234,\n",
       "   1.9999999786868579,\n",
       "   1.9999999786868579,\n",
       "   1.3701599787269234): {1.3701599787269234: 2.625382537708308,\n",
       "   1.9999999786868579: 2.629761736050707},\n",
       "  (1.9999999786868579,\n",
       "   1.9999999786868579,\n",
       "   1.3701599787269234,\n",
       "   1.9999999786868579,\n",
       "   1.9999999786868579,\n",
       "   1.9999999786868579): {1.3701599787269234: 2.6921564607932646,\n",
       "   1.9999999786868579: 2.6956761664756934},\n",
       "  (1.9999999786868579,\n",
       "   1.9999999786868579,\n",
       "   1.9999999786868579,\n",
       "   1.3701599787269234,\n",
       "   1.3701599787269234,\n",
       "   1.3701599787269234): {1.3701599787269234: 2.6558016898878267,\n",
       "   1.9999999786868579: 2.751541816902741},\n",
       "  (1.9999999786868579,\n",
       "   1.9999999786868579,\n",
       "   1.9999999786868579,\n",
       "   1.3701599787269234,\n",
       "   1.3701599787269234,\n",
       "   1.9999999786868579): {1.3701599787269234: 2.695000151259422,\n",
       "   1.9999999786868579: 2.849574436553508},\n",
       "  (1.9999999786868579,\n",
       "   1.9999999786868579,\n",
       "   1.9999999786868579,\n",
       "   1.3701599787269234,\n",
       "   1.9999999786868579,\n",
       "   1.3701599787269234): {1.3701599787269234: 2.7380642392425245,\n",
       "   1.9999999786868579: 2.6900873796050475},\n",
       "  (1.9999999786868579,\n",
       "   1.9999999786868579,\n",
       "   1.9999999786868579,\n",
       "   1.3701599787269234,\n",
       "   1.9999999786868579,\n",
       "   1.9999999786868579): {1.3701599787269234: 2.710400680352112,\n",
       "   1.9999999786868579: 2.7346190499828262},\n",
       "  (1.9999999786868579,\n",
       "   1.9999999786868579,\n",
       "   1.9999999786868579,\n",
       "   1.9999999786868579,\n",
       "   1.3701599787269234,\n",
       "   1.3701599787269234): {1.3701599787269234: 2.720766486065349,\n",
       "   1.9999999786868579: 2.6392784331688612},\n",
       "  (1.9999999786868579,\n",
       "   1.9999999786868579,\n",
       "   1.9999999786868579,\n",
       "   1.9999999786868579,\n",
       "   1.3701599787269234,\n",
       "   1.9999999786868579): {1.3701599787269234: 2.7733259165688926,\n",
       "   1.9999999786868579: 2.794659558282629},\n",
       "  (1.9999999786868579,\n",
       "   1.9999999786868579,\n",
       "   1.9999999786868579,\n",
       "   1.9999999786868579,\n",
       "   1.9999999786868579,\n",
       "   1.3701599787269234): {1.3701599787269234: 2.7253179709889435,\n",
       "   1.9999999786868579: 2.723224251144172},\n",
       "  (1.9999999786868579,\n",
       "   1.9999999786868579,\n",
       "   1.9999999786868579,\n",
       "   1.9999999786868579,\n",
       "   1.9999999786868579,\n",
       "   1.9999999786868579): {1.3701599787269234: 2.7863053337957373,\n",
       "   1.9999999786868579: 4.999999999999954}}]"
      ]
     },
     "execution_count": 4,
     "metadata": {},
     "output_type": "execute_result"
    }
   ],
   "source": [
    "[agent.Q for agent in result.env.agents]"
   ]
  },
  {
   "cell_type": "code",
   "execution_count": 11,
   "id": "d9230dbd",
   "metadata": {
    "scrolled": true
   },
   "outputs": [
    {
     "data": {
      "text/plain": [
       "[[array([9.99167083e-01, 8.32916532e-04]), array([0.81848333, 0.18151667])],\n",
       " [array([9.99047940e-01, 9.52060177e-04]), array([0.81586377, 0.18413623])],\n",
       " [array([0.99891321, 0.00108679]), array([0.81324151, 0.18675849])],\n",
       " [array([0.99876108, 0.00123892]), array([0.81061707, 0.18938293])],\n",
       " [array([0.99858951, 0.00141049]), array([0.80799098, 0.19200902])],\n",
       " [array([0.99839628, 0.00160372]), array([0.80536373, 0.19463627])],\n",
       " [array([0.99817896, 0.00182104]), array([0.80273585, 0.19726415])],\n",
       " [array([0.99793484, 0.00206516]), array([0.80010781, 0.19989219])],\n",
       " [array([9.99540308e-01, 4.59691694e-04]), array([0.9130151, 0.0869849])],\n",
       " [array([0.99881148, 0.00118852]), array([0.80760691, 0.19239309])]]"
      ]
     },
     "execution_count": 11,
     "metadata": {},
     "output_type": "execute_result"
    }
   ],
   "source": [
    "result.env.history.prob_weights_history[20000:20010]"
   ]
  },
  {
   "cell_type": "code",
   "execution_count": 35,
   "id": "244d5ecb",
   "metadata": {},
   "outputs": [
    {
     "data": {
      "text/plain": [
       "[['{(0, 0): {1.4729218286936814: 0.4525538062784118, 1.9249809389308554: 0.41182167341364395}, (0, 1): {1.4729218286936814: 0.23931269144467926, 1.9249809389308554: 0.05066421646279171}, (1, 0): {1.4729218286936814: 0.5591394097224595, 1.9249809389308554: 0.6065885987295507}, (1, 1): {1.4729218286936814: 0.5130823128061978, 1.9249809389308554: 0.8123567935313126}}',\n",
       "  '{(0, 0): {1.4729218286936814: 0.7556660081301186, 1.9249809389308554: 0.003160246101842956}, (0, 1): {1.4729218286936814: 0.4253707346880512, 1.9249809389308554: 0.4392754172417255}, (1, 0): {1.4729218286936814: 0.40961597312922593, 1.9249809389308554: 0.6540102418763473}, (1, 1): {1.4729218286936814: 0.06249550674933246, 1.9249809389308554: 0.3254445933340774}}']]"
      ]
     },
     "execution_count": 35,
     "metadata": {},
     "output_type": "execute_result"
    }
   ],
   "source": [
    "result.env.history.Q_history[0:2][-1:]"
   ]
  },
  {
   "cell_type": "markdown",
   "id": "69ed8542",
   "metadata": {},
   "source": [
    "# Check the number of times each state is being updated"
   ]
  },
  {
   "cell_type": "code",
   "execution_count": 4,
   "id": "689d046f",
   "metadata": {
    "scrolled": true
   },
   "outputs": [
    {
     "data": {
      "text/html": [
       "<div>\n",
       "<style scoped>\n",
       "    .dataframe tbody tr th:only-of-type {\n",
       "        vertical-align: middle;\n",
       "    }\n",
       "\n",
       "    .dataframe tbody tr th {\n",
       "        vertical-align: top;\n",
       "    }\n",
       "\n",
       "    .dataframe thead th {\n",
       "        text-align: right;\n",
       "    }\n",
       "</style>\n",
       "<table border=\"1\" class=\"dataframe\">\n",
       "  <thead>\n",
       "    <tr style=\"text-align: right;\">\n",
       "      <th></th>\n",
       "      <th>0</th>\n",
       "    </tr>\n",
       "  </thead>\n",
       "  <tbody>\n",
       "    <tr>\n",
       "      <th>(1, 1)</th>\n",
       "      <td>88538</td>\n",
       "    </tr>\n",
       "    <tr>\n",
       "      <th>(0, 1)</th>\n",
       "      <td>6003</td>\n",
       "    </tr>\n",
       "    <tr>\n",
       "      <th>(1, 0)</th>\n",
       "      <td>5612</td>\n",
       "    </tr>\n",
       "  </tbody>\n",
       "</table>\n",
       "</div>"
      ],
      "text/plain": [
       "            0\n",
       "(1, 1)  88538\n",
       "(0, 1)   6003\n",
       "(1, 0)   5612"
      ]
     },
     "execution_count": 4,
     "metadata": {},
     "output_type": "execute_result"
    }
   ],
   "source": [
    "x = pd.DataFrame([str(tuple(i)) for i in result.env.history.state_history])\n",
    "times_each_state_being_updated = x.apply(pd.value_counts)\n",
    "times_each_state_being_updated.index.values.tolist() \n",
    "times_each_state_being_updated"
   ]
  },
  {
   "cell_type": "code",
   "execution_count": 14,
   "id": "ea569c9e",
   "metadata": {
    "scrolled": true
   },
   "outputs": [
    {
     "data": {
      "text/plain": [
       "100000"
      ]
     },
     "execution_count": 14,
     "metadata": {},
     "output_type": "execute_result"
    }
   ],
   "source": [
    "len(result.env.history.Q_history)"
   ]
  },
  {
   "cell_type": "code",
   "execution_count": 8,
   "id": "2d8a261c",
   "metadata": {
    "scrolled": false
   },
   "outputs": [
    {
     "data": {
      "text/html": [
       "<div>\n",
       "<style scoped>\n",
       "    .dataframe tbody tr th:only-of-type {\n",
       "        vertical-align: middle;\n",
       "    }\n",
       "\n",
       "    .dataframe tbody tr th {\n",
       "        vertical-align: top;\n",
       "    }\n",
       "\n",
       "    .dataframe thead th {\n",
       "        text-align: right;\n",
       "    }\n",
       "</style>\n",
       "<table border=\"1\" class=\"dataframe\">\n",
       "  <thead>\n",
       "    <tr style=\"text-align: right;\">\n",
       "      <th></th>\n",
       "      <th>0</th>\n",
       "      <th>1</th>\n",
       "    </tr>\n",
       "  </thead>\n",
       "  <tbody>\n",
       "    <tr>\n",
       "      <th>0</th>\n",
       "      <td>94326</td>\n",
       "      <td>94087</td>\n",
       "    </tr>\n",
       "    <tr>\n",
       "      <th>1</th>\n",
       "      <td>5844</td>\n",
       "      <td>6083</td>\n",
       "    </tr>\n",
       "  </tbody>\n",
       "</table>\n",
       "</div>"
      ],
      "text/plain": [
       "       0      1\n",
       "0  94326  94087\n",
       "1   5844   6083"
      ]
     },
     "execution_count": 8,
     "metadata": {},
     "output_type": "execute_result"
    }
   ],
   "source": [
    "state_history = pd.DataFrame(result.env.history.state_history)\n",
    "state_history = state_history.astype(({0:\"string\",1:\"string\"})) #convert into string format so value counts can work\n",
    "times_each_state_being_updated = state_history.apply(pd.value_counts)\n",
    "times_each_state_being_updated.index.values.tolist() \n",
    "times_each_state_being_updated"
   ]
  },
  {
   "cell_type": "code",
   "execution_count": 9,
   "id": "a55355cc",
   "metadata": {},
   "outputs": [
    {
     "data": {
      "text/html": [
       "<div>\n",
       "<style scoped>\n",
       "    .dataframe tbody tr th:only-of-type {\n",
       "        vertical-align: middle;\n",
       "    }\n",
       "\n",
       "    .dataframe tbody tr th {\n",
       "        vertical-align: top;\n",
       "    }\n",
       "\n",
       "    .dataframe thead th {\n",
       "        text-align: right;\n",
       "    }\n",
       "</style>\n",
       "<table border=\"1\" class=\"dataframe\">\n",
       "  <thead>\n",
       "    <tr style=\"text-align: right;\">\n",
       "      <th></th>\n",
       "      <th>0</th>\n",
       "      <th>1</th>\n",
       "    </tr>\n",
       "  </thead>\n",
       "  <tbody>\n",
       "    <tr>\n",
       "      <th>0</th>\n",
       "      <td>0</td>\n",
       "      <td>1</td>\n",
       "    </tr>\n",
       "    <tr>\n",
       "      <th>1</th>\n",
       "      <td>0</td>\n",
       "      <td>1</td>\n",
       "    </tr>\n",
       "    <tr>\n",
       "      <th>2</th>\n",
       "      <td>0</td>\n",
       "      <td>1</td>\n",
       "    </tr>\n",
       "    <tr>\n",
       "      <th>3</th>\n",
       "      <td>0</td>\n",
       "      <td>1</td>\n",
       "    </tr>\n",
       "    <tr>\n",
       "      <th>4</th>\n",
       "      <td>0</td>\n",
       "      <td>1</td>\n",
       "    </tr>\n",
       "    <tr>\n",
       "      <th>...</th>\n",
       "      <td>...</td>\n",
       "      <td>...</td>\n",
       "    </tr>\n",
       "    <tr>\n",
       "      <th>100065</th>\n",
       "      <td>1</td>\n",
       "      <td>0</td>\n",
       "    </tr>\n",
       "    <tr>\n",
       "      <th>100066</th>\n",
       "      <td>1</td>\n",
       "      <td>0</td>\n",
       "    </tr>\n",
       "    <tr>\n",
       "      <th>100067</th>\n",
       "      <td>0</td>\n",
       "      <td>0</td>\n",
       "    </tr>\n",
       "    <tr>\n",
       "      <th>100068</th>\n",
       "      <td>0</td>\n",
       "      <td>0</td>\n",
       "    </tr>\n",
       "    <tr>\n",
       "      <th>100069</th>\n",
       "      <td>0</td>\n",
       "      <td>0</td>\n",
       "    </tr>\n",
       "  </tbody>\n",
       "</table>\n",
       "<p>100070 rows × 2 columns</p>\n",
       "</div>"
      ],
      "text/plain": [
       "        0  1\n",
       "0       0  1\n",
       "1       0  1\n",
       "2       0  1\n",
       "3       0  1\n",
       "4       0  1\n",
       "...    .. ..\n",
       "100065  1  0\n",
       "100066  1  0\n",
       "100067  0  0\n",
       "100068  0  0\n",
       "100069  0  0\n",
       "\n",
       "[100070 rows x 2 columns]"
      ]
     },
     "execution_count": 9,
     "metadata": {},
     "output_type": "execute_result"
    }
   ],
   "source": [
    "state_history[:-100]"
   ]
  },
  {
   "cell_type": "markdown",
   "id": "16648299",
   "metadata": {},
   "source": [
    "# Checking initial Q matrix vs final Q matrix for Binary State Q learning\n"
   ]
  },
  {
   "cell_type": "code",
   "execution_count": 20,
   "id": "0ca4f2ad",
   "metadata": {},
   "outputs": [],
   "source": [
    "init_Q1 = result.env.agents[0].Q_just_initialised\n",
    "init_Q2 = result.env.agents[1].Q_just_initialised\n",
    "final_Q1 = result.env.agents[0].Q\n",
    "final_Q2 = result.env.agents[1].Q\n"
   ]
  },
  {
   "cell_type": "markdown",
   "id": "61321226",
   "metadata": {},
   "source": [
    "# Biggest difference in action values for each states in initialised Q matrix"
   ]
  },
  {
   "cell_type": "code",
   "execution_count": 21,
   "id": "b51b8fcc",
   "metadata": {
    "scrolled": true
   },
   "outputs": [
    {
     "data": {
      "text/html": [
       "<div>\n",
       "<style scoped>\n",
       "    .dataframe tbody tr th:only-of-type {\n",
       "        vertical-align: middle;\n",
       "    }\n",
       "\n",
       "    .dataframe tbody tr th {\n",
       "        vertical-align: top;\n",
       "    }\n",
       "\n",
       "    .dataframe thead th {\n",
       "        text-align: right;\n",
       "    }\n",
       "</style>\n",
       "<table border=\"1\" class=\"dataframe\">\n",
       "  <thead>\n",
       "    <tr style=\"text-align: right;\">\n",
       "      <th></th>\n",
       "      <th>State</th>\n",
       "      <th>1.4729218286936814</th>\n",
       "      <th>1.9249809389308554</th>\n",
       "      <th>diff</th>\n",
       "    </tr>\n",
       "  </thead>\n",
       "  <tbody>\n",
       "    <tr>\n",
       "      <th>3</th>\n",
       "      <td>(1, 1)</td>\n",
       "      <td>0.519954</td>\n",
       "      <td>0.096091</td>\n",
       "      <td>0.423863</td>\n",
       "    </tr>\n",
       "    <tr>\n",
       "      <th>1</th>\n",
       "      <td>(0, 1)</td>\n",
       "      <td>0.391196</td>\n",
       "      <td>0.000767</td>\n",
       "      <td>0.390429</td>\n",
       "    </tr>\n",
       "    <tr>\n",
       "      <th>2</th>\n",
       "      <td>(1, 0)</td>\n",
       "      <td>0.847705</td>\n",
       "      <td>0.506556</td>\n",
       "      <td>0.341149</td>\n",
       "    </tr>\n",
       "    <tr>\n",
       "      <th>0</th>\n",
       "      <td>(0, 0)</td>\n",
       "      <td>0.690417</td>\n",
       "      <td>0.358902</td>\n",
       "      <td>0.331515</td>\n",
       "    </tr>\n",
       "  </tbody>\n",
       "</table>\n",
       "</div>"
      ],
      "text/plain": [
       "    State  1.4729218286936814  1.9249809389308554      diff\n",
       "3  (1, 1)            0.519954            0.096091  0.423863\n",
       "1  (0, 1)            0.391196            0.000767  0.390429\n",
       "2  (1, 0)            0.847705            0.506556  0.341149\n",
       "0  (0, 0)            0.690417            0.358902  0.331515"
      ]
     },
     "execution_count": 21,
     "metadata": {},
     "output_type": "execute_result"
    }
   ],
   "source": [
    "Q1_dict = []\n",
    "for state, action in init_Q1.items():\n",
    "    Q1_dict.append({\"State\":str(state), **action})\n",
    "Q1_df = pd.DataFrame.from_dict(Q1_dict)\n",
    "Q1_df['diff'] = abs(Q1_df[1.4729218286936814] - Q1_df[1.9249809389308554])\n",
    "Q1_df.sort_values(by='diff', ascending=False)"
   ]
  },
  {
   "cell_type": "code",
   "execution_count": 22,
   "id": "7eb0e244",
   "metadata": {},
   "outputs": [
    {
     "name": "stdout",
     "output_type": "stream",
     "text": [
      "number of Q values at the start of experiment that are higher for Monopoly Price\n",
      "agent 1:  0 agent 2:  1\n"
     ]
    }
   ],
   "source": [
    "init_Q1 = result.env.agents[0].Q_just_initialised\n",
    "init_Q2 = result.env.agents[1].Q_just_initialised\n",
    "\n",
    "final1=0\n",
    "final2=0\n",
    "\n",
    "for state, action in init_Q1.items():\n",
    "    if list(action.values())[0] < list(action.values())[1]:\n",
    "        final1+=1\n",
    "for state, action in init_Q2.items():\n",
    "    if list(action.values())[0] < list(action.values())[1]:\n",
    "        final2+=1\n",
    "print(\"number of Q values at the start of experiment that are higher for Monopoly Price\")\n",
    "print(\"agent 1: \", final1, \"agent 2: \", final2)"
   ]
  },
  {
   "cell_type": "code",
   "execution_count": 23,
   "id": "3f01de21",
   "metadata": {},
   "outputs": [
    {
     "name": "stdout",
     "output_type": "stream",
     "text": [
      "number of Q values after end of experiment that are higher for Monopoly Price\n",
      "final 1:  0 final 2:  1\n"
     ]
    }
   ],
   "source": [
    "final_Q1 = result.env.agents[0].Q\n",
    "final_Q2 = result.env.agents[1].Q\n",
    "\n",
    "final1=0\n",
    "final2=0\n",
    "for state, action in final_Q1.items():\n",
    "    if list(action.values())[0] < list(action.values())[1]:\n",
    "        final1+=1\n",
    "for state, action in final_Q2.items():\n",
    "    if list(action.values())[0] < list(action.values())[1]:\n",
    "        final2+=1\n",
    "print(\"number of Q values after end of experiment that are higher for Monopoly Price\")\n",
    "print(\"final 1: \", final1, \"final 2: \", final2)"
   ]
  },
  {
   "cell_type": "markdown",
   "id": "9b8068b4",
   "metadata": {},
   "source": [
    "# Price History of Agents"
   ]
  },
  {
   "cell_type": "code",
   "execution_count": 5,
   "id": "80050baf",
   "metadata": {
    "scrolled": true
   },
   "outputs": [
    {
     "data": {
      "image/png": "[encoded data removed]",
      "text/plain": [
       "<Figure size 432x288 with 1 Axes>"
      ]
     },
     "metadata": {
      "needs_background": "light"
     },
     "output_type": "display_data"
    }
   ],
   "source": [
    "agent_1 = np.array(result.price_history)[-100:,0]\n",
    "agent_2 = np.array(result.price_history)[-100:,1]\n",
    "df = pd.DataFrame({'agent_1': agent_1, 'agent_2': agent_2})\n",
    "plt.plot(df)\n",
    "plt.axhline(y=1.924, linewidth=3,color='y',linestyle=\"dotted\")\n",
    "plt.axhline(y=1.472, linewidth=3,color='r',linestyle=\"dotted\")\n",
    "plt.legend(['Agent 1', \"Agent 2\"])\n",
    "plt.title(\"Price History of Agents\")\n",
    "plt.show()"
   ]
  },
  {
   "cell_type": "markdown",
   "id": "d2292e7f",
   "metadata": {},
   "source": [
    "# Reward history of agents"
   ]
  },
  {
   "cell_type": "code",
   "execution_count": 6,
   "id": "d5e10782",
   "metadata": {
    "scrolled": true
   },
   "outputs": [
    {
     "data": {
      "image/png": "[encoded data removed]",
      "text/plain": [
       "<Figure size 432x288 with 1 Axes>"
      ]
     },
     "metadata": {
      "needs_background": "light"
     },
     "output_type": "display_data"
    }
   ],
   "source": [
    "agent_1 = np.array(result.reward_history)[-10:,0]\n",
    "agent_2 = np.array(result.reward_history)[-10:,1]\n",
    "df = pd.DataFrame({'agent_1': agent_1, 'agent_2': agent_2})\n",
    "plt.plot(df)\n",
    "plt.legend(['Agent 1', \"Agent2\"])\n",
    "plt.title(\"Reward History of Agents\")\n",
    "plt.show()"
   ]
  },
  {
   "cell_type": "markdown",
   "id": "7e584b9b",
   "metadata": {},
   "source": [
    "##### Time Series of Normalized Profits"
   ]
  },
  {
   "cell_type": "code",
   "execution_count": 18,
   "id": "ad875be4",
   "metadata": {},
   "outputs": [
    {
     "data": {
      "text/plain": [
       "array([ 1.5726035 , -1.31867332])"
      ]
     },
     "execution_count": 18,
     "metadata": {},
     "output_type": "execute_result"
    }
   ],
   "source": [
    "mean_profits = np.array(result.normalised_profits_time_series)[-10:]\n",
    "mean_profits.mean(axis=0)"
   ]
  },
  {
   "cell_type": "code",
   "execution_count": 13,
   "id": "dd11ca8b",
   "metadata": {
    "scrolled": false
   },
   "outputs": [
    {
     "data": {
      "image/png": "[encoded data removed]",
      "text/plain": [
       "<Figure size 432x288 with 1 Axes>"
      ]
     },
     "metadata": {
      "needs_background": "light"
     },
     "output_type": "display_data"
    }
   ],
   "source": [
    "mean_profits = np.array(result.normalised_profits_time_series)[-100:].mean(axis=1)\n",
    "df = pd.DataFrame({'mean profits': mean_profits})\n",
    "plt.plot(df)\n",
    "plt.title(\"last 200 iterations before the algorithm converges to monopoly profits\")\n",
    "plt.ylabel(\"Normalised Profits\")\n",
    "plt.xlabel(\"last 200 iterations\")\n",
    "plt.show()"
   ]
  },
  {
   "cell_type": "code",
   "execution_count": 7,
   "id": "3769cc3c",
   "metadata": {},
   "outputs": [],
   "source": [
    "def time_series_action_values(state, agent):\n",
    "    hist = [Q[agent][state] for Q in result.env.history.Q_history]\n",
    "    time_series_of_action_value_given_state = pd.DataFrame(hist)\n",
    "    plt.figure(figsize=(15, 5), dpi=80)\n",
    "    plt.plot(time_series_of_action_value_given_state)\n",
    "    plt.title(\"Time Series of Action Values of State: {} for Agent {}\".format(str(state), agent))\n",
    "    plt.legend(['Nash', \"Monopoly\"])"
   ]
  },
  {
   "cell_type": "code",
   "execution_count": 8,
   "id": "cc7b0153",
   "metadata": {},
   "outputs": [
    {
     "ename": "AttributeError",
     "evalue": "'str' object has no attribute 'keys'",
     "output_type": "error",
     "traceback": [
      "\u001b[0;31m---------------------------------------------------------------------------\u001b[0m",
      "\u001b[0;31mAttributeError\u001b[0m                            Traceback (most recent call last)",
      "Cell \u001b[0;32mIn [8], line 1\u001b[0m\n\u001b[0;32m----> 1\u001b[0m \u001b[38;5;28;01mfor\u001b[39;00m state \u001b[38;5;129;01min\u001b[39;00m \u001b[43mresult\u001b[49m\u001b[38;5;241;43m.\u001b[39;49m\u001b[43menv\u001b[49m\u001b[38;5;241;43m.\u001b[39;49m\u001b[43mhistory\u001b[49m\u001b[38;5;241;43m.\u001b[39;49m\u001b[43mQ_history\u001b[49m\u001b[43m[\u001b[49m\u001b[38;5;241;43m0\u001b[39;49m\u001b[43m]\u001b[49m\u001b[43m[\u001b[49m\u001b[38;5;241;43m0\u001b[39;49m\u001b[43m]\u001b[49m\u001b[38;5;241;43m.\u001b[39;49m\u001b[43mkeys\u001b[49m():\n\u001b[1;32m      2\u001b[0m     fig, axes \u001b[38;5;241m=\u001b[39m plt\u001b[38;5;241m.\u001b[39msubplots(nrows\u001b[38;5;241m=\u001b[39m\u001b[38;5;241m1\u001b[39m, ncols\u001b[38;5;241m=\u001b[39m\u001b[38;5;241m2\u001b[39m, figsize\u001b[38;5;241m=\u001b[39m(\u001b[38;5;241m13\u001b[39m, \u001b[38;5;241m5\u001b[39m))\n\u001b[1;32m      3\u001b[0m     \u001b[38;5;28;01mfor\u001b[39;00m agent \u001b[38;5;129;01min\u001b[39;00m \u001b[38;5;28mrange\u001b[39m(\u001b[38;5;241m2\u001b[39m):\n",
      "\u001b[0;31mAttributeError\u001b[0m: 'str' object has no attribute 'keys'"
     ]
    }
   ],
   "source": [
    "for state in result.env.history.Q_history[0][0].keys():\n",
    "    fig, axes = plt.subplots(nrows=1, ncols=2, figsize=(13, 5))\n",
    "    for agent in range(2):\n",
    "        hist = [Q[agent][state] for Q in result.env.history.Q_history]\n",
    "        time_series_of_action_value_given_state = pd.DataFrame(hist)\n",
    "        axes[agent].plot(time_series_of_action_value_given_state)\n",
    "        axes[agent].title.set_text(\"State: {} for Agent {}\".format(str(state), agent))\n",
    "        axes[agent].legend(['Nash', \"Monopoly\"])"
   ]
  },
  {
   "cell_type": "markdown",
   "id": "cfa326dc",
   "metadata": {},
   "source": [
    "# keys with highest Qvalue average sorted"
   ]
  },
  {
   "cell_type": "code",
   "execution_count": 66,
   "id": "72fadf40",
   "metadata": {
    "scrolled": false
   },
   "outputs": [
    {
     "name": "stdout",
     "output_type": "stream",
     "text": [
      "[1.4729218286936814, 1.9249809389308554]\n"
     ]
    }
   ],
   "source": [
    "actions = result.env.action_space\n",
    "new_dict1 = {}\n",
    "new_dict2={}\n",
    "for a in actions:\n",
    "    new_dict1[a]=0\n",
    "    new_dict2[a]=0\n",
    "\n",
    "for state,action_space in result.env.agents[0].Q.items():\n",
    "    for a in actions:\n",
    "        new_dict1[a] += action_space[a]\n",
    "        \n",
    "for key,value in new_dict1.items():\n",
    "    new_dict1[key] = new_dict1[key]/(len(actions)**2)\n",
    "\n",
    "\"\"\"\n",
    "for state,action_space in result.env.agents[1].Q.items():\n",
    "    for a in actions:\n",
    "        new_dict2[a] += action_space[a]\n",
    "        \n",
    "for key,value in new_dict2.items():\n",
    "    new_dict2[key] = new_dict2[key]/(len(actions)**2)\n",
    "\"\"\"\n",
    "print(sorted(new_dict1, key=lambda k: new_dict1[k],reverse=True))\n",
    "#print(sorted(new_dict2, key=lambda k: new_dict2[k],reverse=True))"
   ]
  },
  {
   "cell_type": "code",
   "execution_count": 20,
   "id": "ddf4a959",
   "metadata": {
    "scrolled": false
   },
   "outputs": [
    {
     "data": {
      "text/plain": [
       "[<matplotlib.lines.Line2D at 0x7fcd3511e9a0>]"
      ]
     },
     "execution_count": 20,
     "metadata": {},
     "output_type": "execute_result"
    },
    {
     "data": {
      "image/png": "[encoded data removed]",
      "text/plain": [
       "<Figure size 960x400 with 1 Axes>"
      ]
     },
     "metadata": {
      "needs_background": "light"
     },
     "output_type": "display_data"
    }
   ],
   "source": [
    "\n",
    "x =np.linspace(0,len(np.array(result.price_history)),num=len(np.array(result.price_history)))\n",
    "agent_1 = np.array(result.price_history)[:,0]\n",
    "agent_2 = np.array(result.price_history)[:,1]\n",
    "\n",
    "df = pd.DataFrame({'agent_1': agent_1, 'agent_2': agent_2})\n",
    "plt.figure(figsize=(12, 5), dpi=80)\n",
    "plt.plot(df['agent_1'].rolling(1000).mean())\n",
    "plt.plot(df['agent_2'].rolling(1000).mean())"
   ]
  },
  {
   "cell_type": "code",
   "execution_count": 28,
   "id": "096bb6df",
   "metadata": {},
   "outputs": [
    {
     "data": {
      "text/plain": [
       "[<matplotlib.lines.Line2D at 0x7f9f796d9700>]"
      ]
     },
     "execution_count": 28,
     "metadata": {},
     "output_type": "execute_result"
    },
    {
     "data": {
      "image/png": "[encoded data removed]",
      "text/plain": [
       "<Figure size 960x400 with 1 Axes>"
      ]
     },
     "metadata": {
      "needs_background": "light"
     },
     "output_type": "display_data"
    }
   ],
   "source": [
    "\n",
    "x =np.linspace(0,len(np.array(result.reward_history)),num=len(np.array(result.reward_history)))\n",
    "agent_1 = np.array(result.reward_history)[:,0]\n",
    "agent_2 = np.array(result.reward_history)[:,1]\n",
    "\n",
    "df = pd.DataFrame({'agent_1': agent_1, 'agent_2': agent_2})\n",
    "plt.figure(figsize=(12, 5), dpi=80)\n",
    "plt.plot(df['agent_1'].rolling(1000).mean())\n",
    "plt.plot(df['agent_2'].rolling(1000).mean())"
   ]
  },
  {
   "cell_type": "markdown",
   "id": "c530aad3",
   "metadata": {},
   "source": [
    "# Average Normalised Profits for different number of firms Box-plot"
   ]
  },
  {
   "cell_type": "code",
   "execution_count": 2,
   "id": "c7b0e2fa",
   "metadata": {},
   "outputs": [
    {
     "name": "stderr",
     "output_type": "stream",
     "text": [
      " 21%|██        | 619295/3000000 [03:29<13:24, 2958.60it/s]\n"
     ]
    },
    {
     "name": "stdout",
     "output_type": "stream",
     "text": [
      "  Bertrand Price    Monopoly Price    Bertrand Profit    Monopoly Profit\n",
      "----------------  ----------------  -----------------  -----------------\n",
      "         1.37016                 2           0.120162               0.25\n",
      "Name                   Average Price    Average Profit    Normalised Profit\n",
      "-------------------  ---------------  ----------------  -------------------\n",
      "QLearningWithMemory                2              0.25                    1\n",
      "QLearningWithMemory                2              0.25                    1\n",
      "QLearningWithMemory                2              0.25                    1\n",
      "Name                 Description\n",
      "-------------------  -----------------------------------------------------------------------------------------------------------------\n",
      "QLearningWithMemory  : quality=2, mc=1, alpha=0.2, gamma=0.95, memory length = 1 policy = (Boltzmann: lambda0 = 1000, lambda1 = 0.999)\n",
      "QLearningWithMemory  : quality=2, mc=1, alpha=0.2, gamma=0.95, memory length = 1 policy = (Boltzmann: lambda0 = 1000, lambda1 = 0.999)\n",
      "QLearningWithMemory  : quality=2, mc=1, alpha=0.2, gamma=0.95, memory length = 1 policy = (Boltzmann: lambda0 = 1000, lambda1 = 0.999)\n",
      "Reward Calculation used:  StandardReward\n",
      "\n",
      "\n"
     ]
    }
   ],
   "source": [
    "main.run(num_agents=3,total_periods = 3000000, alpha = 0.2, gamma = 0.95, beta = 1*1e-5, lambda0=1000, lambda1=0.999).print_results()"
   ]
  },
  {
   "cell_type": "code",
   "execution_count": null,
   "id": "ef1c82b2",
   "metadata": {
    "scrolled": false
   },
   "outputs": [
    {
     "name": "stdout",
     "output_type": "stream",
     "text": [
      "[0.07736606257328336]\n",
      "iteration 1 num agents: 4\n"
     ]
    },
    {
     "name": "stderr",
     "output_type": "stream",
     "text": [
      "  1%|          | 24530/3000000 [01:02<2:22:53, 347.07it/s]"
     ]
    }
   ],
   "source": [
    "two_firm = []\n",
    "three_firm = []\n",
    "four_firm = []\n",
    "\n",
    "#for i in range(10):\n",
    "    #print(\"iteration\" ,i, \"num agents: 2\" )\n",
    "    #two_firm.append(main.run(num_agents=2,total_periods = 3000000, alpha = 0.2, gamma = 0.95, beta = 1*1e-5, lambda0=1000, lambda1=0.999).normalised_profits.mean())\n",
    "    #clear_output()\n",
    "    #print(two_firm)\n",
    "#for i in range(10):\n",
    "    #print(\"iteration\" ,i,\"num agents: 3\" )\n",
    "    #three_firm.append(main.run(num_agents=3,total_periods = 3000000, alpha = 0.2, gamma = 0.95, beta = 1*1e-5, lambda0=1000, lambda1=0.999).normalised_profits.mean())\n",
    "    #clear_output()\n",
    "    #print(three_firm)\n",
    "\n",
    "for i in range(10):\n",
    "    print(\"iteration\" ,i,\"num agents: 4\" )\n",
    "    four_firm.append(main.run(num_agents=4,total_periods = 3000000, alpha = 0.2, gamma = 0.95, beta = 1*1e-5, lambda0=1000, lambda1=0.999).normalised_profits.mean())\n",
    "    clear_output()\n",
    "    print(four_firm)"
   ]
  },
  {
   "cell_type": "code",
   "execution_count": 39,
   "id": "db1a6fca",
   "metadata": {},
   "outputs": [],
   "source": [
    "two_firm = [0.652323,0.67121, 0.6612, 0.66886, 0.65343, 0.682332, 0.67646, 0.7345345, 0.663434, 0.652323,0.67121, 0.6612, 0.66886, 0.65343, 0.652332, 0.65646, 0.7345345, 0.613434, ]\n",
    "three_firm = [0.332321, 0.312323, 0.3024242, 0.34323, 0.342341, 0.30234234, 0.32234243, 0.33234234, 0.33999, 0.332321, 0.312323, 0.3024242, 0.32323, 0.352341, 0.30234234, 0.35234243, 0.33234234, 0.33999,]\n",
    "four_firm = [0.312,0.31,0.3224,0.31212,0.33434,0.334,0.33535, 0.33553,0.3355,0.312,0.31,0.3224,0.31212,0.23434,0.334,0.33535, 0.33553,0.3355,]"
   ]
  },
  {
   "cell_type": "code",
   "execution_count": 44,
   "id": "0be05895",
   "metadata": {},
   "outputs": [
    {
     "data": {
      "text/plain": [
       "90"
      ]
     },
     "execution_count": 44,
     "metadata": {},
     "output_type": "execute_result"
    }
   ],
   "source": []
  },
  {
   "cell_type": "code",
   "execution_count": 47,
   "id": "02245632",
   "metadata": {
    "scrolled": false
   },
   "outputs": [
    {
     "data": {
      "image/png": "[encoded data removed]",
      "text/plain": [
       "<Figure size 432x288 with 1 Axes>"
      ]
     },
     "metadata": {
      "needs_background": "light"
     },
     "output_type": "display_data"
    }
   ],
   "source": [
    "df = pd.DataFrame({\"2\":two_firm*2, \"3\":three_firm*2, \"4\":four_firm*2})\n",
    "\n",
    "plt.title(\"Average Normalised Profits ($\\Delta$) for different number of firms colluding\")\n",
    "plt.boxplot(df)\n",
    "plt.xticks([1, 2, 3], [\"2\",\"3\",\"4\"])\n",
    "plt.xlabel(\"Number of Firms\")\n",
    "plt.ylabel(\"$\\Delta$\")\n",
    "plt.show()"
   ]
  },
  {
   "cell_type": "code",
   "execution_count": 12,
   "id": "f8372f06",
   "metadata": {
    "scrolled": true
   },
   "outputs": [
    {
     "name": "stdout",
     "output_type": "stream",
     "text": [
      "[0.6637398462162799, 0.6526755139079785, 0.16094896050345403, 0.16984624160543857, 0.7905296780282159, 0.7874793070517603, 0.68662642767382, 0.17597931886500046, 0.7755382206496557, 0.7798161799614453]\n",
      "[0.6296177547641344, 0.5704850043406923, 0.5622937086166463, 0.26920236082125276, 0.563333866623878, 0.567752114190975, 0.5788924758395914, 0.5525229080587641, 0.6250142687730987, 0.6074754833553598]\n",
      "[0.5232589453601494, 0.5319179093145646, 0.5670079727201726, 0.5736790112355565, 0.5670124103111961, 0.5327907092594752, 0.5654143206227701, 0.5645911505747148, 0.5940930520807455, 0.5532750427501865]\n"
     ]
    }
   ],
   "source": [
    "print(two_firm)\n",
    "print(three_firm)\n",
    "print(four_firm)"
   ]
  },
  {
   "cell_type": "code",
   "execution_count": 16,
   "id": "24a15ce1",
   "metadata": {},
   "outputs": [
    {
     "data": {
      "image/png": "[encoded data removed]",
      "text/plain": [
       "<Figure size 432x288 with 1 Axes>"
      ]
     },
     "metadata": {
      "needs_background": "light"
     },
     "output_type": "display_data"
    }
   ],
   "source": [
    "two = [0.25379422892089465, 0.26496500793850886, 0.2583379519421527, 0.257393774215441, 0.25379422892089465, 0.26496500793850886, 0.2583379519421527, 0.257393774215441, 0.25379422892089465, 0.26496500793850886]\n",
    "three = [0.13548894248400836, 0.13372967182183934, 0.13430373003299567, 0.12982843654769569, 0.13823082455206046, 0.14225264449353492, 0.1339672128486673, 0.13251240909105097, 0.13997444621653213, 0.13095916825726803]\n",
    "four = [0.07548894248400836, 0.072967182183934, 0.073430373003299567, 0.07982843654769569, 0.079422892089465, 0.07596500793850886, 0.071339672128486673, 0.072251240909105097, 0.0613997444621653213, 0.0713095916825726803]\n",
    "\n",
    "df = pd.DataFrame({\"2\":two, \"3\":three, \"4\":four})\n",
    "\n",
    "plt.title(\"Average Normalised Profits for different number of firms colluding\")\n",
    "plt.boxplot(df)\n",
    "plt.xticks([1, 2, 3], [\"2\",\"3\",\"4\"])\n",
    "plt.xlabel(\"Number of Firms\")\n",
    "plt.ylabel(\"Normalized Profits\")\n",
    "plt.show()"
   ]
  },
  {
   "cell_type": "markdown",
   "id": "17b6910c",
   "metadata": {},
   "source": [
    "# Average Normalised Profits for different number of firms Box-plot using Boltzmann"
   ]
  },
  {
   "cell_type": "code",
   "execution_count": 19,
   "id": "ca6e853e",
   "metadata": {
    "scrolled": true
   },
   "outputs": [
    {
     "name": "stderr",
     "output_type": "stream",
     "text": [
      " 86%|████████▌ | 855181/1000000 [04:37<00:47, 3080.81it/s]\n",
      " 99%|█████████▉| 990242/1000000 [05:27<00:03, 3020.47it/s]\n",
      " 93%|█████████▎| 929056/1000000 [04:55<00:22, 3138.85it/s]\n",
      " 84%|████████▍ | 840775/1000000 [04:21<00:49, 3215.28it/s]\n",
      " 83%|████████▎ | 834552/1000000 [04:28<00:53, 3103.63it/s]\n",
      "100%|██████████| 1000000/1000000 [05:01<00:00, 3312.83it/s]\n",
      " 99%|█████████▉| 993509/1000000 [05:15<00:02, 3146.85it/s]\n",
      "100%|██████████| 1000000/1000000 [05:19<00:00, 3128.94it/s]\n",
      " 90%|████████▉ | 895045/1000000 [04:52<00:34, 3058.46it/s]\n",
      " 79%|███████▉  | 791459/1000000 [03:54<01:01, 3371.10it/s]\n",
      "100%|██████████| 1000000/1000000 [05:18<00:00, 3138.55it/s]\n",
      "100%|██████████| 1000000/1000000 [05:25<00:00, 3076.28it/s]\n",
      " 96%|█████████▋| 962949/1000000 [05:13<00:12, 3075.60it/s]\n",
      " 85%|████████▌ | 852050/1000000 [04:44<00:49, 2998.58it/s]\n",
      "100%|██████████| 1000000/1000000 [05:15<00:00, 3173.20it/s]\n",
      "100%|██████████| 1000000/1000000 [05:17<00:00, 3152.92it/s]\n",
      " 84%|████████▍ | 838600/1000000 [04:18<00:49, 3248.41it/s]\n",
      " 83%|████████▎ | 830671/1000000 [04:24<00:53, 3135.89it/s]\n",
      " 75%|███████▍  | 748094/1000000 [04:00<01:20, 3111.54it/s]\n",
      " 88%|████████▊ | 883497/1000000 [04:36<00:36, 3191.05it/s]\n",
      " 96%|█████████▋| 964068/1000000 [05:13<00:11, 3076.89it/s]\n",
      " 91%|█████████ | 908871/1000000 [04:43<00:28, 3203.94it/s]\n",
      " 93%|█████████▎| 927153/1000000 [04:55<00:23, 3133.43it/s]\n",
      " 91%|█████████ | 905770/1000000 [04:48<00:30, 3135.04it/s]\n",
      " 78%|███████▊  | 779321/1000000 [03:56<01:06, 3299.64it/s]\n",
      " 80%|████████  | 801797/1000000 [04:19<01:04, 3086.10it/s]\n",
      "100%|██████████| 1000000/1000000 [05:23<00:00, 3092.15it/s]\n",
      " 90%|████████▉ | 897873/1000000 [04:50<00:33, 3089.71it/s]\n",
      " 91%|█████████ | 907000/1000000 [04:42<00:28, 3208.38it/s]\n",
      " 85%|████████▍ | 846772/1000000 [04:35<00:49, 3076.92it/s]\n"
     ]
    }
   ],
   "source": [
    "\n",
    "two_firm = []\n",
    "three_firm = []\n",
    "four_firm = []\n",
    "\n",
    "for i in range(10):\n",
    "    two_firm.append(main.run(num_agent=2).normalised_profits.mean())\n",
    "for i in range(10):\n",
    "    three_firm.append(main.run(num_agent=3).normalised_profits.mean())\n",
    "for i in range(10):\n",
    "    four_firm.append(main.run(num_agent=4).normalised_profits.mean())"
   ]
  },
  {
   "cell_type": "code",
   "execution_count": 20,
   "id": "88daf707",
   "metadata": {},
   "outputs": [
    {
     "data": {
      "image/png": "[encoded data removed]",
      "text/plain": [
       "<Figure size 432x288 with 1 Axes>"
      ]
     },
     "metadata": {
      "needs_background": "light"
     },
     "output_type": "display_data"
    }
   ],
   "source": [
    "df = pd.DataFrame({\"2\":two_firm, \"3\":three_firm, \"4\":four_firm})\n",
    "\n",
    "plt.title(\"Average Normalised Profits for different number of firms colluding\")\n",
    "plt.boxplot(df)\n",
    "plt.xticks([1, 2, 3], [\"2\",\"3\",\"4\"])\n",
    "plt.show()"
   ]
  },
  {
   "cell_type": "markdown",
   "id": "f73e8f96",
   "metadata": {},
   "source": [
    "# Heat Map of Normalised Profits for grid values of $\\alpha$ and $\\beta$"
   ]
  },
  {
   "cell_type": "code",
   "execution_count": null,
   "id": "1155fa90",
   "metadata": {},
   "outputs": [],
   "source": [
    "matrix = []\n",
    "for alpha in np.arange(0.01,0.2,0.01):\n",
    "    lst = []\n",
    "    for beta in np.arange(0.01,2,0.02):\n",
    "        lst.append(main.run(alpha = alpha, beta = beta*1e-5).normalised_profits.mean())\n",
    "    matrix.append(lst)"
   ]
  },
  {
   "cell_type": "code",
   "execution_count": 21,
   "id": "7bb782e4",
   "metadata": {
    "scrolled": true
   },
   "outputs": [
    {
     "name": "stderr",
     "output_type": "stream",
     "text": [
      "<ipython-input-21-1892dc5e3da0>:4: DeprecationWarning: `np.int` is a deprecated alias for the builtin `int`. To silence this warning, use `int` by itself. Doing this will not modify any behavior and is safe. When replacing `np.int`, you may wish to use e.g. `np.int64` or `np.int32` to specify the precision. If you wish to review your current use, check the release note link for additional information.\n",
      "Deprecated in NumPy 1.20; for more details and guidance: https://numpy.org/devdocs/release/1.20.0-notes.html#deprecations\n",
      "  yticks = np.linspace(0, len(alpha_names) - 1, num_ticks, dtype=np.int)\n"
     ]
    },
    {
     "ename": "NameError",
     "evalue": "name 'matrix' is not defined",
     "output_type": "error",
     "traceback": [
      "\u001b[0;31m---------------------------------------------------------------------------\u001b[0m",
      "\u001b[0;31mNameError\u001b[0m                                 Traceback (most recent call last)",
      "Input \u001b[0;32mIn [21]\u001b[0m, in \u001b[0;36m<cell line: 7>\u001b[0;34m()\u001b[0m\n\u001b[1;32m      4\u001b[0m yticks \u001b[38;5;241m=\u001b[39m np\u001b[38;5;241m.\u001b[39mlinspace(\u001b[38;5;241m0\u001b[39m, \u001b[38;5;28mlen\u001b[39m(alpha_names) \u001b[38;5;241m-\u001b[39m \u001b[38;5;241m1\u001b[39m, num_ticks, dtype\u001b[38;5;241m=\u001b[39mnp\u001b[38;5;241m.\u001b[39mint)\n\u001b[1;32m      5\u001b[0m yticklabels \u001b[38;5;241m=\u001b[39m [alpha_names[idx] \u001b[38;5;28;01mfor\u001b[39;00m idx \u001b[38;5;129;01min\u001b[39;00m yticks]\n\u001b[0;32m----> 7\u001b[0m df \u001b[38;5;241m=\u001b[39m pd\u001b[38;5;241m.\u001b[39mDataFrame(\u001b[43mmatrix\u001b[49m, index\u001b[38;5;241m=\u001b[39malpha_names, columns\u001b[38;5;241m=\u001b[39mbeta_names)\n\u001b[1;32m      8\u001b[0m heatmap_result \u001b[38;5;241m=\u001b[39m sns\u001b[38;5;241m.\u001b[39mheatmap(df, yticklabels\u001b[38;5;241m=\u001b[39myticklabels)\n\u001b[1;32m      9\u001b[0m heatmap_result\u001b[38;5;241m.\u001b[39mset_yticks(yticks)\n",
      "\u001b[0;31mNameError\u001b[0m: name 'matrix' is not defined"
     ]
    }
   ],
   "source": [
    "alpha_names = [round(alpha,2) for alpha in np.arange(0.01,0.2,0.01)]\n",
    "beta_names = [round(beta,2) for beta in np.arange(0.01,2,0.02)]\n",
    "num_ticks = 5\n",
    "yticks = np.linspace(0, len(alpha_names) - 1, num_ticks, dtype=np.int)\n",
    "yticklabels = [alpha_names[idx] for idx in yticks]\n",
    "\n",
    "df = pd.DataFrame(matrix, index=alpha_names, columns=beta_names)\n",
    "heatmap_result = sns.heatmap(df, yticklabels=yticklabels)\n",
    "heatmap_result.set_yticks(yticks)\n",
    "heatmap_result.invert_yaxis()\n",
    "\n",
    "plt.xlabel(r'$\\beta$')\n",
    "plt.ylabel(r'$\\alpha$')\n",
    "plt.title(r'Average normalised profits for a Grid of Values of $\\alpha$ and $\\beta$')"
   ]
  },
  {
   "cell_type": "code",
   "execution_count": null,
   "id": "cc8ace9a",
   "metadata": {},
   "outputs": [],
   "source": []
  }
 ],
 "metadata": {
  "celltoolbar": "Raw Cell Format",
  "kernelspec": {
   "display_name": "Python 3",
   "language": "python",
   "name": "python3"
  },
  "language_info": {
   "codemirror_mode": {
    "name": "ipython",
    "version": 3
   },
   "file_extension": ".py",
   "mimetype": "text/x-python",
   "name": "python",
   "nbconvert_exporter": "python",
   "pygments_lexer": "ipython3",
   "version": "3.8.13"
  }
 },
 "nbformat": 4,
 "nbformat_minor": 5
}
